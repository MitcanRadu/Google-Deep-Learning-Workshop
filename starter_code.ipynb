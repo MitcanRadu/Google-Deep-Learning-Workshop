{
  "cells": [
    {
      "cell_type": "markdown",
      "id": "4ae3bac9",
      "metadata": {
        "_cell_guid": "b1076dfc-b9ad-4769-8c92-a6c4dae69d19",
        "_uuid": "8f2839f25d086af736a60e9eeb907d3b93b6e0e5",
        "execution": {
          "iopub.execute_input": "2023-07-04T10:13:27.285725Z",
          "iopub.status.busy": "2023-07-04T10:13:27.285031Z",
          "iopub.status.idle": "2023-07-04T10:13:27.586428Z",
          "shell.execute_reply": "2023-07-04T10:13:27.585492Z",
          "shell.execute_reply.started": "2023-07-04T10:13:27.285687Z"
        },
        "papermill": {
          "duration": 0.009167,
          "end_time": "2023-07-08T13:03:20.023989",
          "exception": false,
          "start_time": "2023-07-08T13:03:20.014822",
          "status": "completed"
        },
        "tags": [],
        "id": "4ae3bac9"
      },
      "source": [
        "# Starter Code - Classification on Unlabeled and Mislabeled Images"
      ]
    },
    {
      "cell_type": "markdown",
      "id": "cb912d7d",
      "metadata": {
        "papermill": {
          "duration": 0.008388,
          "end_time": "2023-07-08T13:03:20.041369",
          "exception": false,
          "start_time": "2023-07-08T13:03:20.032981",
          "status": "completed"
        },
        "tags": [],
        "id": "cb912d7d"
      },
      "source": [
        "<h4> Import Libraries </h4>"
      ]
    },
    {
      "cell_type": "code",
      "execution_count": null,
      "id": "c9b643b1",
      "metadata": {
        "execution": {
          "iopub.execute_input": "2023-07-08T13:03:20.060357Z",
          "iopub.status.busy": "2023-07-08T13:03:20.059639Z",
          "iopub.status.idle": "2023-07-08T13:03:24.320916Z",
          "shell.execute_reply": "2023-07-08T13:03:24.319875Z"
        },
        "papermill": {
          "duration": 4.273289,
          "end_time": "2023-07-08T13:03:24.323420",
          "exception": false,
          "start_time": "2023-07-08T13:03:20.050131",
          "status": "completed"
        },
        "tags": [],
        "id": "c9b643b1"
      },
      "outputs": [],
      "source": [
        "import os\n",
        "import sys\n",
        "\n",
        "import numpy as np\n",
        "import pandas as pd\n",
        "from PIL import Image\n",
        "from tqdm import tqdm\n",
        "\n",
        "# Pytorch imports\n",
        "import torch\n",
        "import torch.nn as nn\n",
        "import torch.optim as optim\n",
        "from torchvision import transforms\n",
        "from torch.utils.data import Dataset, DataLoader"
      ]
    },
    {
      "cell_type": "markdown",
      "id": "206eae8d",
      "metadata": {
        "papermill": {
          "duration": 0.008215,
          "end_time": "2023-07-08T13:03:24.340170",
          "exception": false,
          "start_time": "2023-07-08T13:03:24.331955",
          "status": "completed"
        },
        "tags": [],
        "id": "206eae8d"
      },
      "source": [
        "<h4> Training Configuration </h4>\n",
        "You should experiment with different hyperparameters"
      ]
    },
    {
      "cell_type": "code",
      "execution_count": null,
      "id": "89169137",
      "metadata": {
        "execution": {
          "iopub.execute_input": "2023-07-08T13:03:24.357759Z",
          "iopub.status.busy": "2023-07-08T13:03:24.357242Z",
          "iopub.status.idle": "2023-07-08T13:03:24.460003Z",
          "shell.execute_reply": "2023-07-08T13:03:24.459045Z"
        },
        "papermill": {
          "duration": 0.113949,
          "end_time": "2023-07-08T13:03:24.462089",
          "exception": false,
          "start_time": "2023-07-08T13:03:24.348140",
          "status": "completed"
        },
        "tags": [],
        "id": "89169137"
      },
      "outputs": [],
      "source": [
        "CONFIG = {\"seed\": 420,\n",
        "          \"epochs\": 20,\n",
        "          \"img_size\": 64,\n",
        "          \"num_classes\": 30,\n",
        "          \"train_batch_size\": 128,\n",
        "          \"val_batch_size\": 128,\n",
        "          \"learning_rate\": 1e-4,\n",
        "          \"num_workers\": 2,\n",
        "          \"device\": torch.device(\"cuda:0\" if torch.cuda.is_available() else \"cpu\"),\n",
        "          # StepLR Scheduler hyperparameters\n",
        "          \"step_size\": 10,\n",
        "          \"gamma\": 0.95\n",
        "          }"
      ]
    },
    {
      "cell_type": "markdown",
      "id": "e0251f9f",
      "metadata": {
        "papermill": {
          "duration": 0.00812,
          "end_time": "2023-07-08T13:03:24.478678",
          "exception": false,
          "start_time": "2023-07-08T13:03:24.470558",
          "status": "completed"
        },
        "tags": [],
        "id": "e0251f9f"
      },
      "source": [
        "<h4> Set seed for reproducibility </h4>"
      ]
    },
    {
      "cell_type": "code",
      "execution_count": null,
      "id": "a134597c",
      "metadata": {
        "execution": {
          "iopub.execute_input": "2023-07-08T13:03:24.497806Z",
          "iopub.status.busy": "2023-07-08T13:03:24.496097Z",
          "iopub.status.idle": "2023-07-08T13:03:24.512182Z",
          "shell.execute_reply": "2023-07-08T13:03:24.511260Z"
        },
        "papermill": {
          "duration": 0.027171,
          "end_time": "2023-07-08T13:03:24.514219",
          "exception": false,
          "start_time": "2023-07-08T13:03:24.487048",
          "status": "completed"
        },
        "tags": [],
        "id": "a134597c"
      },
      "outputs": [],
      "source": [
        "torch.manual_seed(CONFIG[\"seed\"])\n",
        "torch.cuda.manual_seed(CONFIG[\"seed\"])"
      ]
    },
    {
      "cell_type": "markdown",
      "id": "65cb3c36",
      "metadata": {
        "papermill": {
          "duration": 0.008868,
          "end_time": "2023-07-08T13:03:24.531139",
          "exception": false,
          "start_time": "2023-07-08T13:03:24.522271",
          "status": "completed"
        },
        "tags": [],
        "id": "65cb3c36"
      },
      "source": [
        "<h4> Data Directories </h4>"
      ]
    },
    {
      "cell_type": "code",
      "execution_count": null,
      "id": "e92e1e97",
      "metadata": {
        "execution": {
          "iopub.execute_input": "2023-07-08T13:03:24.549530Z",
          "iopub.status.busy": "2023-07-08T13:03:24.549260Z",
          "iopub.status.idle": "2023-07-08T13:03:24.554141Z",
          "shell.execute_reply": "2023-07-08T13:03:24.553268Z"
        },
        "papermill": {
          "duration": 0.016131,
          "end_time": "2023-07-08T13:03:24.556270",
          "exception": false,
          "start_time": "2023-07-08T13:03:24.540139",
          "status": "completed"
        },
        "tags": [],
        "id": "e92e1e97"
      },
      "outputs": [],
      "source": [
        "ROOT_DIR = '/kaggle/input/classification-on-unlabeled-and-mislabeled-images/'\n",
        "TRAIN_LABELED_DIR = os.path.join(ROOT_DIR, 'train/train/labeled_images/')\n",
        "TRAIN_UNLABELED_DIR = os.path.join(ROOT_DIR, 'train/train/unlabeled_images/')\n",
        "TEST_DIR = os.path.join(ROOT_DIR, 'test/test/images/')\n",
        "SAVE_PATH = \"best_model.pth\""
      ]
    },
    {
      "cell_type": "markdown",
      "id": "2c75e60f",
      "metadata": {
        "papermill": {
          "duration": 0.007794,
          "end_time": "2023-07-08T13:03:24.571939",
          "exception": false,
          "start_time": "2023-07-08T13:03:24.564145",
          "status": "completed"
        },
        "tags": [],
        "id": "2c75e60f"
      },
      "source": [
        "<h4> Read the CSV </h4>"
      ]
    },
    {
      "cell_type": "code",
      "execution_count": null,
      "id": "ab5a23d4",
      "metadata": {
        "execution": {
          "iopub.execute_input": "2023-07-08T13:03:24.590351Z",
          "iopub.status.busy": "2023-07-08T13:03:24.590073Z",
          "iopub.status.idle": "2023-07-08T13:03:24.622852Z",
          "shell.execute_reply": "2023-07-08T13:03:24.620187Z"
        },
        "papermill": {
          "duration": 0.04587,
          "end_time": "2023-07-08T13:03:24.626259",
          "exception": false,
          "start_time": "2023-07-08T13:03:24.580389",
          "status": "completed"
        },
        "tags": [],
        "colab": {
          "base_uri": "https://localhost:8080/",
          "height": 351
        },
        "id": "ab5a23d4",
        "outputId": "fe09cf09-933a-45d4-cb46-1dd355e7e6d8"
      },
      "outputs": [
        {
          "output_type": "error",
          "ename": "FileNotFoundError",
          "evalue": "[Errno 2] No such file or directory: '/kaggle/input/classification-on-unlabeled-and-mislabeled-images/train_annotations.csv'",
          "traceback": [
            "\u001b[0;31m---------------------------------------------------------------------------\u001b[0m",
            "\u001b[0;31mFileNotFoundError\u001b[0m                         Traceback (most recent call last)",
            "\u001b[0;32m<ipython-input-6-3fe51fa64aa0>\u001b[0m in \u001b[0;36m<cell line: 1>\u001b[0;34m()\u001b[0m\n\u001b[0;32m----> 1\u001b[0;31m \u001b[0mdf\u001b[0m \u001b[0;34m=\u001b[0m \u001b[0mpd\u001b[0m\u001b[0;34m.\u001b[0m\u001b[0mread_csv\u001b[0m\u001b[0;34m(\u001b[0m\u001b[0mos\u001b[0m\u001b[0;34m.\u001b[0m\u001b[0mpath\u001b[0m\u001b[0;34m.\u001b[0m\u001b[0mjoin\u001b[0m\u001b[0;34m(\u001b[0m\u001b[0mROOT_DIR\u001b[0m\u001b[0;34m,\u001b[0m \u001b[0;34m'train_annotations.csv'\u001b[0m\u001b[0;34m)\u001b[0m\u001b[0;34m)\u001b[0m\u001b[0;34m\u001b[0m\u001b[0;34m\u001b[0m\u001b[0m\n\u001b[0m\u001b[1;32m      2\u001b[0m \u001b[0mdf\u001b[0m\u001b[0;34m.\u001b[0m\u001b[0mhead\u001b[0m\u001b[0;34m(\u001b[0m\u001b[0;34m)\u001b[0m\u001b[0;34m\u001b[0m\u001b[0;34m\u001b[0m\u001b[0m\n",
            "\u001b[0;32m/usr/local/lib/python3.10/dist-packages/pandas/util/_decorators.py\u001b[0m in \u001b[0;36mwrapper\u001b[0;34m(*args, **kwargs)\u001b[0m\n\u001b[1;32m    209\u001b[0m                 \u001b[0;32melse\u001b[0m\u001b[0;34m:\u001b[0m\u001b[0;34m\u001b[0m\u001b[0;34m\u001b[0m\u001b[0m\n\u001b[1;32m    210\u001b[0m                     \u001b[0mkwargs\u001b[0m\u001b[0;34m[\u001b[0m\u001b[0mnew_arg_name\u001b[0m\u001b[0;34m]\u001b[0m \u001b[0;34m=\u001b[0m \u001b[0mnew_arg_value\u001b[0m\u001b[0;34m\u001b[0m\u001b[0;34m\u001b[0m\u001b[0m\n\u001b[0;32m--> 211\u001b[0;31m             \u001b[0;32mreturn\u001b[0m \u001b[0mfunc\u001b[0m\u001b[0;34m(\u001b[0m\u001b[0;34m*\u001b[0m\u001b[0margs\u001b[0m\u001b[0;34m,\u001b[0m \u001b[0;34m**\u001b[0m\u001b[0mkwargs\u001b[0m\u001b[0;34m)\u001b[0m\u001b[0;34m\u001b[0m\u001b[0;34m\u001b[0m\u001b[0m\n\u001b[0m\u001b[1;32m    212\u001b[0m \u001b[0;34m\u001b[0m\u001b[0m\n\u001b[1;32m    213\u001b[0m         \u001b[0;32mreturn\u001b[0m \u001b[0mcast\u001b[0m\u001b[0;34m(\u001b[0m\u001b[0mF\u001b[0m\u001b[0;34m,\u001b[0m \u001b[0mwrapper\u001b[0m\u001b[0;34m)\u001b[0m\u001b[0;34m\u001b[0m\u001b[0;34m\u001b[0m\u001b[0m\n",
            "\u001b[0;32m/usr/local/lib/python3.10/dist-packages/pandas/util/_decorators.py\u001b[0m in \u001b[0;36mwrapper\u001b[0;34m(*args, **kwargs)\u001b[0m\n\u001b[1;32m    329\u001b[0m                     \u001b[0mstacklevel\u001b[0m\u001b[0;34m=\u001b[0m\u001b[0mfind_stack_level\u001b[0m\u001b[0;34m(\u001b[0m\u001b[0;34m)\u001b[0m\u001b[0;34m,\u001b[0m\u001b[0;34m\u001b[0m\u001b[0;34m\u001b[0m\u001b[0m\n\u001b[1;32m    330\u001b[0m                 )\n\u001b[0;32m--> 331\u001b[0;31m             \u001b[0;32mreturn\u001b[0m \u001b[0mfunc\u001b[0m\u001b[0;34m(\u001b[0m\u001b[0;34m*\u001b[0m\u001b[0margs\u001b[0m\u001b[0;34m,\u001b[0m \u001b[0;34m**\u001b[0m\u001b[0mkwargs\u001b[0m\u001b[0;34m)\u001b[0m\u001b[0;34m\u001b[0m\u001b[0;34m\u001b[0m\u001b[0m\n\u001b[0m\u001b[1;32m    332\u001b[0m \u001b[0;34m\u001b[0m\u001b[0m\n\u001b[1;32m    333\u001b[0m         \u001b[0;31m# error: \"Callable[[VarArg(Any), KwArg(Any)], Any]\" has no\u001b[0m\u001b[0;34m\u001b[0m\u001b[0;34m\u001b[0m\u001b[0m\n",
            "\u001b[0;32m/usr/local/lib/python3.10/dist-packages/pandas/io/parsers/readers.py\u001b[0m in \u001b[0;36mread_csv\u001b[0;34m(filepath_or_buffer, sep, delimiter, header, names, index_col, usecols, squeeze, prefix, mangle_dupe_cols, dtype, engine, converters, true_values, false_values, skipinitialspace, skiprows, skipfooter, nrows, na_values, keep_default_na, na_filter, verbose, skip_blank_lines, parse_dates, infer_datetime_format, keep_date_col, date_parser, dayfirst, cache_dates, iterator, chunksize, compression, thousands, decimal, lineterminator, quotechar, quoting, doublequote, escapechar, comment, encoding, encoding_errors, dialect, error_bad_lines, warn_bad_lines, on_bad_lines, delim_whitespace, low_memory, memory_map, float_precision, storage_options)\u001b[0m\n\u001b[1;32m    948\u001b[0m     \u001b[0mkwds\u001b[0m\u001b[0;34m.\u001b[0m\u001b[0mupdate\u001b[0m\u001b[0;34m(\u001b[0m\u001b[0mkwds_defaults\u001b[0m\u001b[0;34m)\u001b[0m\u001b[0;34m\u001b[0m\u001b[0;34m\u001b[0m\u001b[0m\n\u001b[1;32m    949\u001b[0m \u001b[0;34m\u001b[0m\u001b[0m\n\u001b[0;32m--> 950\u001b[0;31m     \u001b[0;32mreturn\u001b[0m \u001b[0m_read\u001b[0m\u001b[0;34m(\u001b[0m\u001b[0mfilepath_or_buffer\u001b[0m\u001b[0;34m,\u001b[0m \u001b[0mkwds\u001b[0m\u001b[0;34m)\u001b[0m\u001b[0;34m\u001b[0m\u001b[0;34m\u001b[0m\u001b[0m\n\u001b[0m\u001b[1;32m    951\u001b[0m \u001b[0;34m\u001b[0m\u001b[0m\n\u001b[1;32m    952\u001b[0m \u001b[0;34m\u001b[0m\u001b[0m\n",
            "\u001b[0;32m/usr/local/lib/python3.10/dist-packages/pandas/io/parsers/readers.py\u001b[0m in \u001b[0;36m_read\u001b[0;34m(filepath_or_buffer, kwds)\u001b[0m\n\u001b[1;32m    603\u001b[0m \u001b[0;34m\u001b[0m\u001b[0m\n\u001b[1;32m    604\u001b[0m     \u001b[0;31m# Create the parser.\u001b[0m\u001b[0;34m\u001b[0m\u001b[0;34m\u001b[0m\u001b[0m\n\u001b[0;32m--> 605\u001b[0;31m     \u001b[0mparser\u001b[0m \u001b[0;34m=\u001b[0m \u001b[0mTextFileReader\u001b[0m\u001b[0;34m(\u001b[0m\u001b[0mfilepath_or_buffer\u001b[0m\u001b[0;34m,\u001b[0m \u001b[0;34m**\u001b[0m\u001b[0mkwds\u001b[0m\u001b[0;34m)\u001b[0m\u001b[0;34m\u001b[0m\u001b[0;34m\u001b[0m\u001b[0m\n\u001b[0m\u001b[1;32m    606\u001b[0m \u001b[0;34m\u001b[0m\u001b[0m\n\u001b[1;32m    607\u001b[0m     \u001b[0;32mif\u001b[0m \u001b[0mchunksize\u001b[0m \u001b[0;32mor\u001b[0m \u001b[0miterator\u001b[0m\u001b[0;34m:\u001b[0m\u001b[0;34m\u001b[0m\u001b[0;34m\u001b[0m\u001b[0m\n",
            "\u001b[0;32m/usr/local/lib/python3.10/dist-packages/pandas/io/parsers/readers.py\u001b[0m in \u001b[0;36m__init__\u001b[0;34m(self, f, engine, **kwds)\u001b[0m\n\u001b[1;32m   1440\u001b[0m \u001b[0;34m\u001b[0m\u001b[0m\n\u001b[1;32m   1441\u001b[0m         \u001b[0mself\u001b[0m\u001b[0;34m.\u001b[0m\u001b[0mhandles\u001b[0m\u001b[0;34m:\u001b[0m \u001b[0mIOHandles\u001b[0m \u001b[0;34m|\u001b[0m \u001b[0;32mNone\u001b[0m \u001b[0;34m=\u001b[0m \u001b[0;32mNone\u001b[0m\u001b[0;34m\u001b[0m\u001b[0;34m\u001b[0m\u001b[0m\n\u001b[0;32m-> 1442\u001b[0;31m         \u001b[0mself\u001b[0m\u001b[0;34m.\u001b[0m\u001b[0m_engine\u001b[0m \u001b[0;34m=\u001b[0m \u001b[0mself\u001b[0m\u001b[0;34m.\u001b[0m\u001b[0m_make_engine\u001b[0m\u001b[0;34m(\u001b[0m\u001b[0mf\u001b[0m\u001b[0;34m,\u001b[0m \u001b[0mself\u001b[0m\u001b[0;34m.\u001b[0m\u001b[0mengine\u001b[0m\u001b[0;34m)\u001b[0m\u001b[0;34m\u001b[0m\u001b[0;34m\u001b[0m\u001b[0m\n\u001b[0m\u001b[1;32m   1443\u001b[0m \u001b[0;34m\u001b[0m\u001b[0m\n\u001b[1;32m   1444\u001b[0m     \u001b[0;32mdef\u001b[0m \u001b[0mclose\u001b[0m\u001b[0;34m(\u001b[0m\u001b[0mself\u001b[0m\u001b[0;34m)\u001b[0m \u001b[0;34m->\u001b[0m \u001b[0;32mNone\u001b[0m\u001b[0;34m:\u001b[0m\u001b[0;34m\u001b[0m\u001b[0;34m\u001b[0m\u001b[0m\n",
            "\u001b[0;32m/usr/local/lib/python3.10/dist-packages/pandas/io/parsers/readers.py\u001b[0m in \u001b[0;36m_make_engine\u001b[0;34m(self, f, engine)\u001b[0m\n\u001b[1;32m   1733\u001b[0m                 \u001b[0;32mif\u001b[0m \u001b[0;34m\"b\"\u001b[0m \u001b[0;32mnot\u001b[0m \u001b[0;32min\u001b[0m \u001b[0mmode\u001b[0m\u001b[0;34m:\u001b[0m\u001b[0;34m\u001b[0m\u001b[0;34m\u001b[0m\u001b[0m\n\u001b[1;32m   1734\u001b[0m                     \u001b[0mmode\u001b[0m \u001b[0;34m+=\u001b[0m \u001b[0;34m\"b\"\u001b[0m\u001b[0;34m\u001b[0m\u001b[0;34m\u001b[0m\u001b[0m\n\u001b[0;32m-> 1735\u001b[0;31m             self.handles = get_handle(\n\u001b[0m\u001b[1;32m   1736\u001b[0m                 \u001b[0mf\u001b[0m\u001b[0;34m,\u001b[0m\u001b[0;34m\u001b[0m\u001b[0;34m\u001b[0m\u001b[0m\n\u001b[1;32m   1737\u001b[0m                 \u001b[0mmode\u001b[0m\u001b[0;34m,\u001b[0m\u001b[0;34m\u001b[0m\u001b[0;34m\u001b[0m\u001b[0m\n",
            "\u001b[0;32m/usr/local/lib/python3.10/dist-packages/pandas/io/common.py\u001b[0m in \u001b[0;36mget_handle\u001b[0;34m(path_or_buf, mode, encoding, compression, memory_map, is_text, errors, storage_options)\u001b[0m\n\u001b[1;32m    854\u001b[0m         \u001b[0;32mif\u001b[0m \u001b[0mioargs\u001b[0m\u001b[0;34m.\u001b[0m\u001b[0mencoding\u001b[0m \u001b[0;32mand\u001b[0m \u001b[0;34m\"b\"\u001b[0m \u001b[0;32mnot\u001b[0m \u001b[0;32min\u001b[0m \u001b[0mioargs\u001b[0m\u001b[0;34m.\u001b[0m\u001b[0mmode\u001b[0m\u001b[0;34m:\u001b[0m\u001b[0;34m\u001b[0m\u001b[0;34m\u001b[0m\u001b[0m\n\u001b[1;32m    855\u001b[0m             \u001b[0;31m# Encoding\u001b[0m\u001b[0;34m\u001b[0m\u001b[0;34m\u001b[0m\u001b[0m\n\u001b[0;32m--> 856\u001b[0;31m             handle = open(\n\u001b[0m\u001b[1;32m    857\u001b[0m                 \u001b[0mhandle\u001b[0m\u001b[0;34m,\u001b[0m\u001b[0;34m\u001b[0m\u001b[0;34m\u001b[0m\u001b[0m\n\u001b[1;32m    858\u001b[0m                 \u001b[0mioargs\u001b[0m\u001b[0;34m.\u001b[0m\u001b[0mmode\u001b[0m\u001b[0;34m,\u001b[0m\u001b[0;34m\u001b[0m\u001b[0;34m\u001b[0m\u001b[0m\n",
            "\u001b[0;31mFileNotFoundError\u001b[0m: [Errno 2] No such file or directory: '/kaggle/input/classification-on-unlabeled-and-mislabeled-images/train_annotations.csv'"
          ]
        }
      ],
      "source": [
        "df = pd.read_csv(os.path.join(ROOT_DIR, 'train_annotations.csv'))\n",
        "df.head()"
      ]
    },
    {
      "cell_type": "markdown",
      "id": "9349bef0",
      "metadata": {
        "papermill": {
          "duration": 0.008489,
          "end_time": "2023-07-08T13:03:24.648317",
          "exception": false,
          "start_time": "2023-07-08T13:03:24.639828",
          "status": "completed"
        },
        "tags": [],
        "id": "9349bef0"
      },
      "source": [
        "<h4> Create mapping for class_name </h4>"
      ]
    },
    {
      "cell_type": "code",
      "execution_count": null,
      "id": "457e599b",
      "metadata": {
        "execution": {
          "iopub.execute_input": "2023-07-08T13:03:24.667039Z",
          "iopub.status.busy": "2023-07-08T13:03:24.666739Z",
          "iopub.status.idle": "2023-07-08T13:03:24.678827Z",
          "shell.execute_reply": "2023-07-08T13:03:24.677795Z"
        },
        "papermill": {
          "duration": 0.023793,
          "end_time": "2023-07-08T13:03:24.680881",
          "exception": false,
          "start_time": "2023-07-08T13:03:24.657088",
          "status": "completed"
        },
        "tags": [],
        "id": "457e599b"
      },
      "outputs": [],
      "source": [
        "class_names = df.class_name.unique()\n",
        "class_to_index_mapping = {}\n",
        "index_to_class_mapping = {}\n",
        "for i in range(CONFIG['num_classes']):\n",
        "    class_to_index_mapping[class_names[i]] = i\n",
        "    index_to_class_mapping[i] = class_names[i]\n",
        "class_to_index_mapping"
      ]
    },
    {
      "cell_type": "markdown",
      "id": "7a5f4173",
      "metadata": {
        "papermill": {
          "duration": 0.008527,
          "end_time": "2023-07-08T13:03:24.698430",
          "exception": false,
          "start_time": "2023-07-08T13:03:24.689903",
          "status": "completed"
        },
        "tags": [],
        "id": "7a5f4173"
      },
      "source": [
        "<h4> Dataset Class </h4>"
      ]
    },
    {
      "cell_type": "code",
      "execution_count": null,
      "id": "aef1268c",
      "metadata": {
        "execution": {
          "iopub.execute_input": "2023-07-08T13:03:24.716945Z",
          "iopub.status.busy": "2023-07-08T13:03:24.716200Z",
          "iopub.status.idle": "2023-07-08T13:03:24.727580Z",
          "shell.execute_reply": "2023-07-08T13:03:24.726783Z"
        },
        "papermill": {
          "duration": 0.02249,
          "end_time": "2023-07-08T13:03:24.729600",
          "exception": false,
          "start_time": "2023-07-08T13:03:24.707110",
          "status": "completed"
        },
        "tags": [],
        "id": "aef1268c"
      },
      "outputs": [],
      "source": [
        "class CustomDataset(Dataset):\n",
        "    def __init__(self, csv_path, data_dir, transform, dataset_type='train'):\n",
        "        self.transform = transform\n",
        "        df = pd.read_csv(csv_path)\n",
        "        self.data_dir = data_dir\n",
        "\n",
        "        # Split training set into train and validation\n",
        "        train_data=df.sample(frac=0.8,random_state=CONFIG['seed'])\n",
        "        if dataset_type == 'train':\n",
        "            self.data = train_data\n",
        "        elif dataset_type == 'val':\n",
        "            self.data=df.drop(train_data.index)\n",
        "\n",
        "        # For submission use full training set\n",
        "        elif dataset_type == 'full-train':\n",
        "                self.data = df\n",
        "\n",
        "    def __len__(self):\n",
        "        return len(self.data)\n",
        "\n",
        "    def __getitem__(self, idx):\n",
        "        row = self.data.iloc[idx]\n",
        "\n",
        "        img_path = os.path.join(self.data_dir, row['image_name'])\n",
        "        img_label = class_to_index_mapping[row.class_name]\n",
        "\n",
        "        img = Image.open(img_path).convert(\"RGB\")\n",
        "\n",
        "        if self.transform:\n",
        "            img = self.transform(img)\n",
        "\n",
        "        output = {'img': img, 'label': img_label}\n",
        "\n",
        "        return output"
      ]
    },
    {
      "cell_type": "code",
      "execution_count": null,
      "id": "dd9e6e4a",
      "metadata": {
        "execution": {
          "iopub.execute_input": "2023-07-08T13:03:24.748779Z",
          "iopub.status.busy": "2023-07-08T13:03:24.747262Z",
          "iopub.status.idle": "2023-07-08T13:03:24.754693Z",
          "shell.execute_reply": "2023-07-08T13:03:24.753862Z"
        },
        "papermill": {
          "duration": 0.019008,
          "end_time": "2023-07-08T13:03:24.756849",
          "exception": false,
          "start_time": "2023-07-08T13:03:24.737841",
          "status": "completed"
        },
        "tags": [],
        "id": "dd9e6e4a"
      },
      "outputs": [],
      "source": [
        "# Dataset for loading unlabeled set and test set\n",
        "\n",
        "class UnlabeledDataset(Dataset):\n",
        "    def __init__(self, data_dir, transform):\n",
        "        self.transform = transform\n",
        "        self.data_dir = data_dir\n",
        "        self.img_names = [filename for filename in sorted(os.listdir(self.data_dir))]\n",
        "\n",
        "    def __len__(self):\n",
        "        return len(self.img_names)\n",
        "\n",
        "    def __getitem__(self, idx):\n",
        "        img_path = os.path.join(self.data_dir, self.img_names[idx])\n",
        "\n",
        "        img = Image.open(img_path).convert(\"RGB\")\n",
        "\n",
        "        if self.transform:\n",
        "            img = self.transform(img)\n",
        "\n",
        "        output = {'img': img, 'img_name': self.img_names[idx]}\n",
        "\n",
        "        return output"
      ]
    },
    {
      "cell_type": "markdown",
      "id": "4dc6ffbf",
      "metadata": {
        "papermill": {
          "duration": 0.008022,
          "end_time": "2023-07-08T13:03:24.773143",
          "exception": false,
          "start_time": "2023-07-08T13:03:24.765121",
          "status": "completed"
        },
        "tags": [],
        "id": "4dc6ffbf"
      },
      "source": [
        "<h4> Augmentations </h4>\n",
        "You should experiment with adding/removing transforms"
      ]
    },
    {
      "cell_type": "code",
      "execution_count": null,
      "id": "bcb3fc18",
      "metadata": {
        "execution": {
          "iopub.execute_input": "2023-07-08T13:03:24.792398Z",
          "iopub.status.busy": "2023-07-08T13:03:24.790871Z",
          "iopub.status.idle": "2023-07-08T13:03:24.798649Z",
          "shell.execute_reply": "2023-07-08T13:03:24.797795Z"
        },
        "papermill": {
          "duration": 0.019235,
          "end_time": "2023-07-08T13:03:24.800687",
          "exception": false,
          "start_time": "2023-07-08T13:03:24.781452",
          "status": "completed"
        },
        "tags": [],
        "id": "bcb3fc18"
      },
      "outputs": [],
      "source": [
        "train_transforms = transforms.Compose([\n",
        "    transforms.Resize(CONFIG['img_size']),\n",
        "    transforms.RandomResizedCrop(CONFIG['img_size']),\n",
        "    transforms.RandomRotation(degrees=90),\n",
        "    transforms.RandomHorizontalFlip(p=0.5),\n",
        "    transforms.RandomVerticalFlip(p=0.5),\n",
        "    transforms.ColorJitter(brightness=0.25, contrast=0.25, saturation=0.25),\n",
        "    transforms.ToTensor(),\n",
        "    transforms.Normalize(mean=[0.485, 0.456, 0.406], std=[0.229,0.224,0.225]),\n",
        "])\n",
        "\n",
        "test_transforms = transforms.Compose([\n",
        "    transforms.Resize(CONFIG['img_size']),\n",
        "    transforms.ToTensor(),\n",
        "    transforms.Normalize(mean=[0.485, 0.456, 0.406], std=[0.229,0.224,0.225]),\n",
        "])"
      ]
    },
    {
      "cell_type": "markdown",
      "id": "4df0a84c",
      "metadata": {
        "papermill": {
          "duration": 0.008705,
          "end_time": "2023-07-08T13:03:24.818114",
          "exception": false,
          "start_time": "2023-07-08T13:03:24.809409",
          "status": "completed"
        },
        "tags": [],
        "id": "4df0a84c"
      },
      "source": [
        "<h4> Prepare Data loaders </h4>"
      ]
    },
    {
      "cell_type": "code",
      "execution_count": null,
      "id": "e46dde9c",
      "metadata": {
        "execution": {
          "iopub.execute_input": "2023-07-08T13:03:24.838355Z",
          "iopub.status.busy": "2023-07-08T13:03:24.836623Z",
          "iopub.status.idle": "2023-07-08T13:03:24.852572Z",
          "shell.execute_reply": "2023-07-08T13:03:24.851062Z"
        },
        "papermill": {
          "duration": 0.029685,
          "end_time": "2023-07-08T13:03:24.856829",
          "exception": false,
          "start_time": "2023-07-08T13:03:24.827144",
          "status": "completed"
        },
        "tags": [],
        "id": "e46dde9c"
      },
      "outputs": [],
      "source": [
        "def prepare_loaders():\n",
        "    train_set = CustomDataset(\n",
        "        csv_path = os.path.join(ROOT_DIR, 'train_annotations.csv'),\n",
        "        data_dir = TRAIN_LABELED_DIR,\n",
        "        transform = train_transforms,\n",
        "        dataset_type ='train'\n",
        "    )\n",
        "\n",
        "    train_loader = DataLoader(\n",
        "        train_set,\n",
        "        batch_size = CONFIG['train_batch_size'],\n",
        "        shuffle = True,\n",
        "        num_workers = CONFIG['num_workers'],\n",
        "        pin_memory = True\n",
        "    )\n",
        "\n",
        "    val_set = CustomDataset(\n",
        "        csv_path = os.path.join(ROOT_DIR, 'train_annotations.csv'),\n",
        "        data_dir = TRAIN_LABELED_DIR,\n",
        "        transform = test_transforms,\n",
        "        dataset_type ='val'\n",
        "    )\n",
        "\n",
        "    val_loader = DataLoader(\n",
        "        val_set,\n",
        "        batch_size = CONFIG['val_batch_size'],\n",
        "        shuffle = False,\n",
        "        num_workers = CONFIG['num_workers'],\n",
        "        pin_memory = True\n",
        "    )\n",
        "\n",
        "    return train_loader, val_loader\n"
      ]
    },
    {
      "cell_type": "markdown",
      "id": "60a0a6a4",
      "metadata": {
        "papermill": {
          "duration": 0.015392,
          "end_time": "2023-07-08T13:03:24.887309",
          "exception": false,
          "start_time": "2023-07-08T13:03:24.871917",
          "status": "completed"
        },
        "tags": [],
        "id": "60a0a6a4"
      },
      "source": [
        "<h4> Create model </h4>\n",
        "You should experiment with different models by modifying existing ones or constructing new models from scratch"
      ]
    },
    {
      "cell_type": "code",
      "execution_count": null,
      "id": "31a39f65",
      "metadata": {
        "execution": {
          "iopub.execute_input": "2023-07-08T13:03:24.915150Z",
          "iopub.status.busy": "2023-07-08T13:03:24.914769Z",
          "iopub.status.idle": "2023-07-08T13:03:24.921891Z",
          "shell.execute_reply": "2023-07-08T13:03:24.920949Z"
        },
        "papermill": {
          "duration": 0.025086,
          "end_time": "2023-07-08T13:03:24.924202",
          "exception": false,
          "start_time": "2023-07-08T13:03:24.899116",
          "status": "completed"
        },
        "tags": [],
        "id": "31a39f65"
      },
      "outputs": [],
      "source": [
        "from torchvision.models import resnet18\n",
        "\n",
        "class ResnetModel(nn.Module):\n",
        "    def __init__(self, num_classes):\n",
        "        super(ResnetModel, self).__init__()\n",
        "        self.backbone = resnet18()\n",
        "\n",
        "        # Change the classification head to have num_classes output neurons\n",
        "        in_features = self.backbone.fc.in_features\n",
        "        self.backbone.fc = nn.Linear(in_features=in_features, out_features=num_classes, bias=True)\n",
        "\n",
        "    def forward(self, x):\n",
        "        x = self.backbone(x)\n",
        "\n",
        "        return x"
      ]
    },
    {
      "cell_type": "code",
      "execution_count": null,
      "id": "8eafae78",
      "metadata": {
        "execution": {
          "iopub.execute_input": "2023-07-08T13:03:24.953788Z",
          "iopub.status.busy": "2023-07-08T13:03:24.953094Z",
          "iopub.status.idle": "2023-07-08T13:03:28.229656Z",
          "shell.execute_reply": "2023-07-08T13:03:28.228565Z"
        },
        "papermill": {
          "duration": 3.287805,
          "end_time": "2023-07-08T13:03:28.231721",
          "exception": false,
          "start_time": "2023-07-08T13:03:24.943916",
          "status": "completed"
        },
        "tags": [],
        "id": "8eafae78"
      },
      "outputs": [],
      "source": [
        "model = ResnetModel(num_classes=CONFIG['num_classes'])\n",
        "model.to(CONFIG['device'])"
      ]
    },
    {
      "cell_type": "markdown",
      "id": "9dbbcec5",
      "metadata": {
        "papermill": {
          "duration": 0.008922,
          "end_time": "2023-07-08T13:03:28.250341",
          "exception": false,
          "start_time": "2023-07-08T13:03:28.241419",
          "status": "completed"
        },
        "tags": [],
        "id": "9dbbcec5"
      },
      "source": [
        "<h4> Training Helpers </h4>\n",
        "You are encouraged to experiment with different scheduler types and parameters"
      ]
    },
    {
      "cell_type": "code",
      "execution_count": null,
      "id": "98487d7e",
      "metadata": {
        "execution": {
          "iopub.execute_input": "2023-07-08T13:03:28.270120Z",
          "iopub.status.busy": "2023-07-08T13:03:28.269174Z",
          "iopub.status.idle": "2023-07-08T13:03:28.275508Z",
          "shell.execute_reply": "2023-07-08T13:03:28.274668Z"
        },
        "papermill": {
          "duration": 0.018268,
          "end_time": "2023-07-08T13:03:28.277702",
          "exception": false,
          "start_time": "2023-07-08T13:03:28.259434",
          "status": "completed"
        },
        "tags": [],
        "id": "98487d7e"
      },
      "outputs": [],
      "source": [
        "criterion = nn.CrossEntropyLoss()\n",
        "\n",
        "optimizer = optim.AdamW(model.parameters(), lr=CONFIG['learning_rate'])\n",
        "scheduler = optim.lr_scheduler.StepLR(optimizer, step_size=CONFIG['step_size'], gamma=CONFIG['gamma'])"
      ]
    },
    {
      "cell_type": "markdown",
      "id": "d0e49be8",
      "metadata": {
        "papermill": {
          "duration": 0.008972,
          "end_time": "2023-07-08T13:03:28.295943",
          "exception": false,
          "start_time": "2023-07-08T13:03:28.286971",
          "status": "completed"
        },
        "tags": [],
        "id": "d0e49be8"
      },
      "source": [
        "<h4> Training function </h4>"
      ]
    },
    {
      "cell_type": "code",
      "execution_count": null,
      "id": "5de5d352",
      "metadata": {
        "execution": {
          "iopub.execute_input": "2023-07-08T13:03:28.314507Z",
          "iopub.status.busy": "2023-07-08T13:03:28.313779Z",
          "iopub.status.idle": "2023-07-08T13:03:28.321836Z",
          "shell.execute_reply": "2023-07-08T13:03:28.321019Z"
        },
        "papermill": {
          "duration": 0.019393,
          "end_time": "2023-07-08T13:03:28.323906",
          "exception": false,
          "start_time": "2023-07-08T13:03:28.304513",
          "status": "completed"
        },
        "tags": [],
        "id": "5de5d352"
      },
      "outputs": [],
      "source": [
        "def train_epoch(model, dataloader, device, epoch):\n",
        "    model.train()\n",
        "\n",
        "    total_train_loss = 0.0\n",
        "    dataset_size = 0\n",
        "\n",
        "    bar = tqdm(enumerate(dataloader), total=len(dataloader), colour='cyan', file=sys.stdout)\n",
        "    for step, data in bar:\n",
        "        images = data['img'].to(device)\n",
        "        labels = data['label'].to(device)\n",
        "\n",
        "        batch_size = images.shape[0]\n",
        "\n",
        "        optimizer.zero_grad()\n",
        "        pred = model(images)\n",
        "        loss = criterion(pred, labels)\n",
        "\n",
        "        loss.backward()\n",
        "        optimizer.step()\n",
        "\n",
        "        total_train_loss += (loss.item() * batch_size)\n",
        "        dataset_size += batch_size\n",
        "\n",
        "        epoch_loss = np.round(total_train_loss / dataset_size, 2)\n",
        "        bar.set_postfix(Epoch=epoch, Train_Loss=epoch_loss)\n",
        "\n",
        "    scheduler.step()\n",
        "\n",
        "\n",
        "    return epoch_loss"
      ]
    },
    {
      "cell_type": "markdown",
      "id": "31757a47",
      "metadata": {
        "papermill": {
          "duration": 0.008768,
          "end_time": "2023-07-08T13:03:28.341389",
          "exception": false,
          "start_time": "2023-07-08T13:03:28.332621",
          "status": "completed"
        },
        "tags": [],
        "id": "31757a47"
      },
      "source": [
        "<h4> Validation function </h4>"
      ]
    },
    {
      "cell_type": "code",
      "execution_count": null,
      "id": "3a6cb00e",
      "metadata": {
        "execution": {
          "iopub.execute_input": "2023-07-08T13:03:28.360771Z",
          "iopub.status.busy": "2023-07-08T13:03:28.359245Z",
          "iopub.status.idle": "2023-07-08T13:03:28.367730Z",
          "shell.execute_reply": "2023-07-08T13:03:28.366890Z"
        },
        "papermill": {
          "duration": 0.019883,
          "end_time": "2023-07-08T13:03:28.369787",
          "exception": false,
          "start_time": "2023-07-08T13:03:28.349904",
          "status": "completed"
        },
        "tags": [],
        "id": "3a6cb00e"
      },
      "outputs": [],
      "source": [
        "def valid_epoch(model, dataloader, device, epoch):\n",
        "    model.eval()\n",
        "\n",
        "    total_val_loss = 0.0\n",
        "    dataset_size = 0\n",
        "\n",
        "    correct = 0\n",
        "\n",
        "    bar = tqdm(enumerate(dataloader), total=len(dataloader), colour='cyan', file=sys.stdout)\n",
        "    for step, data in bar:\n",
        "        images = data['img'].to(device)\n",
        "        labels = data['label'].to(device)\n",
        "\n",
        "        batch_size = images.shape[0]\n",
        "\n",
        "        pred = model(images)\n",
        "        loss = criterion(pred, labels)\n",
        "\n",
        "        _, predicted = torch.max(pred, 1)\n",
        "        correct += (predicted == labels).sum().item()\n",
        "\n",
        "        total_val_loss += (loss.item() * batch_size)\n",
        "        dataset_size += batch_size\n",
        "\n",
        "        epoch_loss = np.round(total_val_loss / dataset_size, 2)\n",
        "\n",
        "        accuracy = np.round(100 * correct / dataset_size, 2)\n",
        "\n",
        "        bar.set_postfix(Epoch=epoch, Valid_Acc=accuracy, Valid_Loss=epoch_loss)\n",
        "\n",
        "    return accuracy, epoch_loss"
      ]
    },
    {
      "cell_type": "markdown",
      "id": "8349d65a",
      "metadata": {
        "papermill": {
          "duration": 0.008467,
          "end_time": "2023-07-08T13:03:28.387035",
          "exception": false,
          "start_time": "2023-07-08T13:03:28.378568",
          "status": "completed"
        },
        "tags": [],
        "id": "8349d65a"
      },
      "source": [
        "<h4> Build submission file </h4>"
      ]
    },
    {
      "cell_type": "code",
      "execution_count": null,
      "id": "cf075afc",
      "metadata": {
        "execution": {
          "iopub.execute_input": "2023-07-08T13:03:28.406468Z",
          "iopub.status.busy": "2023-07-08T13:03:28.405704Z",
          "iopub.status.idle": "2023-07-08T13:03:28.413347Z",
          "shell.execute_reply": "2023-07-08T13:03:28.412456Z"
        },
        "papermill": {
          "duration": 0.01939,
          "end_time": "2023-07-08T13:03:28.415380",
          "exception": false,
          "start_time": "2023-07-08T13:03:28.395990",
          "status": "completed"
        },
        "tags": [],
        "id": "cf075afc"
      },
      "outputs": [],
      "source": [
        "def build_submission(model, dataloader, device, submission_file):\n",
        "    model.eval()\n",
        "\n",
        "    all_predictions = []\n",
        "    all_image_names = []\n",
        "\n",
        "    for data in dataloader:\n",
        "        images = data['img'].to(device)\n",
        "        img_names = data['img_name']\n",
        "        pred = model(images)\n",
        "        _, predicted = torch.max(pred, 1)\n",
        "\n",
        "        predicted = predicted.cpu().numpy().tolist()\n",
        "        all_predictions.extend(predicted)\n",
        "        all_image_names.extend(img_names)\n",
        "\n",
        "    all_predictions = [index_to_class_mapping[prediction] for prediction in all_predictions]\n",
        "    data = list(zip(all_image_names, all_predictions))\n",
        "    submission_df = pd.DataFrame(data=data, columns=['image_name', 'class_name'])\n",
        "    submission_df.to_csv(submission_file, index=False)\n",
        "    print(f\"Submission saved to {submission_file}\")"
      ]
    },
    {
      "cell_type": "markdown",
      "id": "29da6827",
      "metadata": {
        "papermill": {
          "duration": 0.008847,
          "end_time": "2023-07-08T13:03:28.433437",
          "exception": false,
          "start_time": "2023-07-08T13:03:28.424590",
          "status": "completed"
        },
        "tags": [],
        "id": "29da6827"
      },
      "source": [
        "<h4> Run Training </h4>"
      ]
    },
    {
      "cell_type": "code",
      "execution_count": null,
      "id": "37048869",
      "metadata": {
        "execution": {
          "iopub.execute_input": "2023-07-08T13:03:28.453180Z",
          "iopub.status.busy": "2023-07-08T13:03:28.452613Z",
          "iopub.status.idle": "2023-07-08T13:03:28.459769Z",
          "shell.execute_reply": "2023-07-08T13:03:28.458900Z"
        },
        "papermill": {
          "duration": 0.019361,
          "end_time": "2023-07-08T13:03:28.461833",
          "exception": false,
          "start_time": "2023-07-08T13:03:28.442472",
          "status": "completed"
        },
        "tags": [],
        "id": "37048869"
      },
      "outputs": [],
      "source": [
        "def run_training(model, device, num_epochs):\n",
        "    if torch.cuda.is_available():\n",
        "        print(\"[INFO] Using GPU: {}\\n\".format(torch.cuda.get_device_name()))\n",
        "\n",
        "    top_accuracy = 0.0\n",
        "\n",
        "    train_loader, val_loader = prepare_loaders()\n",
        "    for epoch in range(num_epochs):\n",
        "\n",
        "        train_loss = train_epoch(model, train_loader, device, epoch)\n",
        "        with torch.no_grad():\n",
        "            val_accuracy, val_loss = valid_epoch(model, val_loader, device, epoch)\n",
        "            if val_accuracy > top_accuracy:\n",
        "                print(f\"Validation Accuracy Improved ({top_accuracy} ---> {val_accuracy})\")\n",
        "                top_accuracy = val_accuracy\n",
        "                torch.save(model.state_dict(), SAVE_PATH)\n",
        "                print(\"Model Saved\")\n",
        "        print()"
      ]
    },
    {
      "cell_type": "code",
      "execution_count": null,
      "id": "861b25af",
      "metadata": {
        "execution": {
          "iopub.execute_input": "2023-07-08T13:03:28.481465Z",
          "iopub.status.busy": "2023-07-08T13:03:28.480739Z",
          "iopub.status.idle": "2023-07-08T13:05:32.823819Z",
          "shell.execute_reply": "2023-07-08T13:05:32.822390Z"
        },
        "papermill": {
          "duration": 124.355233,
          "end_time": "2023-07-08T13:05:32.826059",
          "exception": false,
          "start_time": "2023-07-08T13:03:28.470826",
          "status": "completed"
        },
        "tags": [],
        "id": "861b25af"
      },
      "outputs": [],
      "source": [
        "run_training(model, CONFIG['device'], CONFIG['epochs'])"
      ]
    },
    {
      "cell_type": "code",
      "execution_count": null,
      "id": "e85cb297",
      "metadata": {
        "execution": {
          "iopub.execute_input": "2023-07-08T13:05:32.981504Z",
          "iopub.status.busy": "2023-07-08T13:05:32.980456Z",
          "iopub.status.idle": "2023-07-08T13:05:36.143338Z",
          "shell.execute_reply": "2023-07-08T13:05:36.141322Z"
        },
        "papermill": {
          "duration": 3.24305,
          "end_time": "2023-07-08T13:05:36.145932",
          "exception": false,
          "start_time": "2023-07-08T13:05:32.902882",
          "status": "completed"
        },
        "tags": [],
        "id": "e85cb297"
      },
      "outputs": [],
      "source": [
        "print(\"Loading best model for submission\")\n",
        "model.load_state_dict(torch.load(SAVE_PATH))\n",
        "\n",
        "test_set = UnlabeledDataset(TEST_DIR, test_transforms)\n",
        "\n",
        "test_loader = DataLoader(\n",
        "        test_set,\n",
        "        batch_size = CONFIG['val_batch_size'],\n",
        "        shuffle = False,\n",
        "        num_workers = CONFIG['num_workers'],\n",
        "        pin_memory = True\n",
        ")\n",
        "\n",
        "build_submission(model, test_loader, CONFIG['device'], 'submission.csv')"
      ]
    }
  ],
  "metadata": {
    "kernelspec": {
      "display_name": "Python 3",
      "language": "python",
      "name": "python3"
    },
    "language_info": {
      "codemirror_mode": {
        "name": "ipython",
        "version": 3
      },
      "file_extension": ".py",
      "mimetype": "text/x-python",
      "name": "python",
      "nbconvert_exporter": "python",
      "pygments_lexer": "ipython3",
      "version": "3.10.10"
    },
    "papermill": {
      "default_parameters": {},
      "duration": 150.96513,
      "end_time": "2023-07-08T13:05:39.559301",
      "environment_variables": {},
      "exception": null,
      "input_path": "__notebook__.ipynb",
      "output_path": "__notebook__.ipynb",
      "parameters": {},
      "start_time": "2023-07-08T13:03:08.594171",
      "version": "2.4.0"
    },
    "colab": {
      "provenance": []
    }
  },
  "nbformat": 4,
  "nbformat_minor": 5
}