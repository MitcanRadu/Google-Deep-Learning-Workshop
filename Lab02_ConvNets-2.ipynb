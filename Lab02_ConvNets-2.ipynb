{
  "nbformat": 4,
  "nbformat_minor": 0,
  "metadata": {
    "colab": {
      "provenance": [],
      "gpuType": "T4"
    },
    "kernelspec": {
      "name": "python3",
      "display_name": "Python 3"
    },
    "language_info": {
      "name": "python"
    },
    "accelerator": "GPU"
  },
  "cells": [
    {
      "cell_type": "markdown",
      "metadata": {
        "id": "view-in-github"
      },
      "source": [
        "<a href=\"https://colab.research.google.com/github/AndyCatruna/Vision-Summer-School/blob/main/Lab02_ConvNets.ipynb\" target=\"_parent\"><img src=\"https://colab.research.google.com/assets/colab-badge.svg\" alt=\"Open In Colab\"/></a>"
      ]
    },
    {
      "cell_type": "markdown",
      "source": [
        "# Convolutional Neural Networks"
      ],
      "metadata": {
        "id": "2Ic3_yaPXAGI"
      }
    },
    {
      "cell_type": "markdown",
      "source": [
        "In this lab we will explore Convolutional Neural Networks for image classification."
      ],
      "metadata": {
        "id": "caq8NyfjQExs"
      }
    },
    {
      "cell_type": "markdown",
      "source": [
        "Necessary imports"
      ],
      "metadata": {
        "id": "fn7EC7RyQVoj"
      }
    },
    {
      "cell_type": "code",
      "execution_count": null,
      "metadata": {
        "id": "Kwkdapgczgya"
      },
      "outputs": [],
      "source": [
        "import sys\n",
        "\n",
        "import numpy as np\n",
        "from tqdm import tqdm\n",
        "\n",
        "import torch\n",
        "import torch.nn as nn\n",
        "import torch.optim as optim\n",
        "import torchvision\n",
        "from torchvision import transforms, datasets\n",
        "from torchvision.models import resnet18\n",
        "from torch.utils.data import Dataset, DataLoader"
      ]
    },
    {
      "cell_type": "markdown",
      "source": [
        "We will use the CIFAR10 dataset which contains 32x32 images of 10 different classes."
      ],
      "metadata": {
        "id": "FtfR_-lEQYYX"
      }
    },
    {
      "cell_type": "code",
      "source": [
        "# TODO for Exercise 3 - Add more transforms that act as image augmentations\n",
        "\n",
        "transform = transforms.Compose(\n",
        "    [transforms.ToTensor(),\n",
        "    transforms.Normalize((0.5, 0.5, 0.5), (0.5, 0.5, 0.5))])\n",
        "\n",
        "trainset = datasets.CIFAR10(root='./data', train=True,\n",
        "                                        download=True, transform=transform)\n",
        "trainloader = DataLoader(trainset, batch_size=256,\n",
        "                                          shuffle=True)\n",
        "\n",
        "testset = datasets.CIFAR10(root='./data', train=False,\n",
        "                                       download=True, transform=transform)\n",
        "testloader = DataLoader(testset, batch_size=256,\n",
        "                                         shuffle=False)\n",
        "\n",
        "classes = ('plane', 'car', 'bird', 'cat',\n",
        "           'deer', 'dog', 'frog', 'horse', 'ship', 'truck')"
      ],
      "metadata": {
        "id": "GwG1jhP30rty",
        "colab": {
          "base_uri": "https://localhost:8080/"
        },
        "outputId": "c333e3ca-f2bc-4bfc-bee3-af55ed478cc8"
      },
      "execution_count": null,
      "outputs": [
        {
          "output_type": "stream",
          "name": "stdout",
          "text": [
            "Downloading https://www.cs.toronto.edu/~kriz/cifar-10-python.tar.gz to ./data/cifar-10-python.tar.gz\n"
          ]
        },
        {
          "output_type": "stream",
          "name": "stderr",
          "text": [
            "100%|██████████| 170498071/170498071 [00:13<00:00, 13054319.05it/s]\n"
          ]
        },
        {
          "output_type": "stream",
          "name": "stdout",
          "text": [
            "Extracting ./data/cifar-10-python.tar.gz to ./data\n",
            "Files already downloaded and verified\n"
          ]
        }
      ]
    },
    {
      "cell_type": "markdown",
      "source": [
        "We plot some images from the dataset in order to get an idea of how they look."
      ],
      "metadata": {
        "id": "Zh-791w-QlML"
      }
    },
    {
      "cell_type": "code",
      "source": [
        "import matplotlib.pyplot as plt\n",
        "import numpy as np\n",
        "\n",
        "# functions to show an image\n",
        "\n",
        "def imshow(img):\n",
        "    img = img / 2 + 0.5     # unnormalize\n",
        "    npimg = img.numpy()\n",
        "    plt.imshow(np.transpose(npimg, (1, 2, 0)))\n",
        "\n",
        "\n",
        "# get some random training images\n",
        "dataiter = iter(trainloader)\n",
        "images, labels = next(dataiter)\n",
        "\n",
        "# show images\n",
        "imshow(torchvision.utils.make_grid(images[:8]))\n",
        "# print labels\n",
        "print(' '.join('%8s' % classes[labels[j]] for j in range(8)))"
      ],
      "metadata": {
        "id": "VBN-hjoP08m8",
        "colab": {
          "base_uri": "https://localhost:8080/",
          "height": 147
        },
        "outputId": "be6866f1-83bd-4ef7-d169-606c7dbc0021"
      },
      "execution_count": null,
      "outputs": [
        {
          "output_type": "stream",
          "name": "stdout",
          "text": [
            "   horse    plane      cat     frog      car    truck      dog      cat\n"
          ]
        },
        {
          "output_type": "display_data",
          "data": {
            "text/plain": [
              "<Figure size 640x480 with 1 Axes>"
            ],
            "image/png": "[encoded data removed]"
          },
          "metadata": {}
        }
      ]
    },
    {
      "cell_type": "markdown",
      "source": [
        "We define the device on which we will train the models. For this lab you should have GPU execution enabled. Training the models on cpu will take too much time.\n",
        "\n",
        "If the models still take too much time to train, you can try to increase the batch size value in the dataloaders (if you increase it too much you might get \"Out of memory error\")."
      ],
      "metadata": {
        "id": "O52Bxme4RWC9"
      }
    },
    {
      "cell_type": "code",
      "source": [
        "device = torch.device(\"cuda\" if torch.cuda.is_available() else \"cpu\")"
      ],
      "metadata": {
        "id": "LUbV-2Ok7IP2"
      },
      "execution_count": null,
      "outputs": []
    },
    {
      "cell_type": "markdown",
      "source": [
        "We define a training epoch in which we iterate through all the data in the training set and update the model."
      ],
      "metadata": {
        "id": "GivHRLgVRfgE"
      }
    },
    {
      "cell_type": "code",
      "source": [
        "def train_epoch(model, dataloader, device, optimizer, criterion, epoch):\n",
        "    model.train()\n",
        "\n",
        "    total_train_loss = 0.0\n",
        "    dataset_size = 0\n",
        "\n",
        "    bar = tqdm(enumerate(dataloader), total=len(dataloader), colour='cyan', file=sys.stdout)\n",
        "    for step, (images, labels) in bar:\n",
        "        images = images.to(device)\n",
        "        labels = labels.to(device)\n",
        "       # print(images.shape)\n",
        "      #  print(labels.shape)\n",
        "        batch_size = images.shape[0]\n",
        "\n",
        "        optimizer.zero_grad()\n",
        "        pred = model(images)\n",
        "        loss = criterion(pred, labels)\n",
        "\n",
        "        loss.backward()\n",
        "        optimizer.step()\n",
        "\n",
        "        total_train_loss += (loss.item() * batch_size)\n",
        "        dataset_size += batch_size\n",
        "\n",
        "        epoch_loss = np.round(total_train_loss / dataset_size, 2)\n",
        "        bar.set_postfix(Epoch=epoch, Train_Loss=epoch_loss)\n",
        "\n",
        "\n",
        "    return epoch_loss"
      ],
      "metadata": {
        "id": "SIJHpfna3Ygn"
      },
      "execution_count": null,
      "outputs": []
    },
    {
      "cell_type": "markdown",
      "source": [
        "We define the validation function in which the model is tested on unseen images."
      ],
      "metadata": {
        "id": "4fI8_mAqRn0K"
      }
    },
    {
      "cell_type": "code",
      "source": [
        "def valid_epoch(model, dataloader, device, criterion, epoch):\n",
        "    model.eval()\n",
        "\n",
        "    total_val_loss = 0.0\n",
        "    dataset_size = 0\n",
        "\n",
        "    correct = 0\n",
        "\n",
        "    bar = tqdm(enumerate(dataloader), total=len(dataloader), colour='cyan', file=sys.stdout)\n",
        "    for step, (images, labels) in bar:\n",
        "        images = images.to(device)\n",
        "        labels = labels.to(device)\n",
        "\n",
        "        batch_size = images.shape[0]\n",
        "\n",
        "        pred = model(images)\n",
        "        loss = criterion(pred, labels)\n",
        "\n",
        "        _, predicted = torch.max(pred, 1)\n",
        "        correct += (predicted == labels).sum().item()\n",
        "\n",
        "        total_val_loss += (loss.item() * batch_size)\n",
        "        dataset_size += batch_size\n",
        "\n",
        "        epoch_loss = np.round(total_val_loss / dataset_size, 2)\n",
        "\n",
        "        accuracy = np.round(100 * correct / dataset_size, 2)\n",
        "\n",
        "        bar.set_postfix(Epoch=epoch, Valid_Acc=accuracy, Valid_Loss=epoch_loss)\n",
        "\n",
        "    return accuracy, epoch_loss"
      ],
      "metadata": {
        "id": "q4t64YbA3n1e"
      },
      "execution_count": null,
      "outputs": []
    },
    {
      "cell_type": "markdown",
      "source": [
        "We define the function that receives the model and trains it with an optimizer and loss function (criterion) for a number of epochs."
      ],
      "metadata": {
        "id": "rEWiymhnRwTH"
      }
    },
    {
      "cell_type": "code",
      "source": [
        "def run_training(model, criterion, optimizer, num_epochs):\n",
        "    if torch.cuda.is_available():\n",
        "        print(\"[INFO] Using GPU: {}\\n\".format(torch.cuda.get_device_name()))\n",
        "\n",
        "    top_accuracy = 0.0\n",
        "\n",
        "    for epoch in range(num_epochs):\n",
        "\n",
        "        train_loss = train_epoch(model, trainloader, device, optimizer, criterion, epoch)\n",
        "        with torch.no_grad():\n",
        "            val_accuracy, val_loss = valid_epoch(model, testloader, device, criterion, epoch)\n",
        "            if val_accuracy > top_accuracy:\n",
        "                print(f\"Validation Accuracy Improved ({top_accuracy} ---> {val_accuracy})\")\n",
        "                top_accuracy = val_accuracy\n",
        "        print()"
      ],
      "metadata": {
        "id": "exy1VgkI7BRi"
      },
      "execution_count": null,
      "outputs": []
    },
    {
      "cell_type": "markdown",
      "source": [
        "#### Fully Connected Neural Network"
      ],
      "metadata": {
        "id": "Q90lMpNCNlxF"
      }
    },
    {
      "cell_type": "markdown",
      "source": [
        "We first train a fully connected network on the images to compare it with the following CNNs. The fully connected neural network is not a very wise choice for images because we lose spatial information."
      ],
      "metadata": {
        "id": "VkHjNtP-C5TN"
      }
    },
    {
      "cell_type": "code",
      "source": [
        "class FCNNet(nn.Module):\n",
        "    def __init__(self):\n",
        "        super(FCNNet, self).__init__()\n",
        "\n",
        "        self.fc1 = nn.Linear(in_features=3 * 32 * 32, out_features=360)\n",
        "        self.fc2 = nn.Linear(in_features=360, out_features=120)\n",
        "        self.fc3 = nn.Linear(in_features=120, out_features=84)\n",
        "        self.fc4 = nn.Linear(in_features=84, out_features=10)\n",
        "\n",
        "        # Activation function - can be replaced by other better functions (GELU, Mish etc.)\n",
        "        self.activation = nn.ReLU()\n",
        "\n",
        "    def forward(self, x):\n",
        "        x = x.view(-1, 3 * 32 * 32)\n",
        "\n",
        "        x = self.activation(self.fc1(x))\n",
        "        x = self.activation(self.fc2(x))\n",
        "        x = self.activation(self.fc3(x))\n",
        "\n",
        "        # Output is 10 scores, one for each class\n",
        "        x = self.fc4(x)\n",
        "\n",
        "        return x"
      ],
      "metadata": {
        "id": "iVIPlzH6Npcn"
      },
      "execution_count": null,
      "outputs": []
    },
    {
      "cell_type": "code",
      "source": [
        "learning_rate = 0.001\n",
        "epochs = 10\n",
        "\n",
        "model = FCNNet()\n",
        "model.to(device)\n",
        "criterion = nn.CrossEntropyLoss()\n",
        "\n",
        "# Adam is an improved gradient descent algorithm\n",
        "optimizer = optim.Adam(model.parameters(), lr=learning_rate)"
      ],
      "metadata": {
        "id": "a9R1IeDkONzh"
      },
      "execution_count": null,
      "outputs": []
    },
    {
      "cell_type": "code",
      "source": [
        "run_training(model, criterion, optimizer, epochs)"
      ],
      "metadata": {
        "id": "oFy85eqhOYyU",
        "colab": {
          "base_uri": "https://localhost:8080/"
        },
        "outputId": "60d12092-c30b-40d9-8e8c-9312eb461371"
      },
      "execution_count": null,
      "outputs": [
        {
          "metadata": {
            "tags": null
          },
          "name": "stdout",
          "output_type": "stream",
          "text": [
            "[INFO] Using GPU: Tesla T4\n",
            "\n",
            "100%|\u001b[36m██████████\u001b[0m| 196/196 [00:21<00:00,  9.31it/s, Epoch=0, Train_Loss=1.69]\n",
            "100%|\u001b[36m██████████\u001b[0m| 40/40 [00:03<00:00, 12.60it/s, Epoch=0, Valid_Acc=46.9, Valid_Loss=1.51]\n",
            "Validation Accuracy Improved (0.0 ---> 46.87)\n",
            "\n",
            "100%|\u001b[36m██████████\u001b[0m| 196/196 [00:24<00:00,  7.88it/s, Epoch=1, Train_Loss=1.45]\n",
            "100%|\u001b[36m██████████\u001b[0m| 40/40 [00:03<00:00, 12.64it/s, Epoch=1, Valid_Acc=50.5, Valid_Loss=1.41]\n",
            "Validation Accuracy Improved (46.87 ---> 50.52)\n",
            "\n",
            "100%|\u001b[36m██████████\u001b[0m| 196/196 [00:18<00:00, 10.88it/s, Epoch=2, Train_Loss=1.34]\n",
            "100%|\u001b[36m██████████\u001b[0m| 40/40 [00:03<00:00, 11.53it/s, Epoch=2, Valid_Acc=51, Valid_Loss=1.38]\n",
            "Validation Accuracy Improved (50.52 ---> 51.04)\n",
            "\n",
            "100%|\u001b[36m██████████\u001b[0m| 196/196 [00:17<00:00, 11.26it/s, Epoch=3, Train_Loss=1.25]\n",
            "100%|\u001b[36m██████████\u001b[0m| 40/40 [00:03<00:00, 11.04it/s, Epoch=3, Valid_Acc=52.1, Valid_Loss=1.35]\n",
            "Validation Accuracy Improved (51.04 ---> 52.13)\n",
            "\n",
            "100%|\u001b[36m██████████\u001b[0m| 196/196 [00:17<00:00, 11.06it/s, Epoch=4, Train_Loss=1.17]\n",
            "100%|\u001b[36m██████████\u001b[0m| 40/40 [00:03<00:00, 12.43it/s, Epoch=4, Valid_Acc=53, Valid_Loss=1.34]\n",
            "Validation Accuracy Improved (52.13 ---> 52.96)\n",
            "\n",
            "100%|\u001b[36m██████████\u001b[0m| 196/196 [00:19<00:00, 10.26it/s, Epoch=5, Train_Loss=1.1]\n",
            "100%|\u001b[36m██████████\u001b[0m| 40/40 [00:03<00:00, 12.25it/s, Epoch=5, Valid_Acc=54.1, Valid_Loss=1.31]\n",
            "Validation Accuracy Improved (52.96 ---> 54.07)\n",
            "\n",
            "100%|\u001b[36m██████████\u001b[0m| 196/196 [00:17<00:00, 11.42it/s, Epoch=6, Train_Loss=1.04]\n",
            "100%|\u001b[36m██████████\u001b[0m| 40/40 [00:04<00:00,  9.98it/s, Epoch=6, Valid_Acc=53.5, Valid_Loss=1.35]\n",
            "\n",
            "100%|\u001b[36m██████████\u001b[0m| 196/196 [00:16<00:00, 11.58it/s, Epoch=7, Train_Loss=0.97]\n",
            "100%|\u001b[36m██████████\u001b[0m| 40/40 [00:03<00:00, 12.84it/s, Epoch=7, Valid_Acc=53.4, Valid_Loss=1.37]\n",
            "\n",
            "100%|\u001b[36m██████████\u001b[0m| 196/196 [00:17<00:00, 10.95it/s, Epoch=8, Train_Loss=0.91]\n",
            "100%|\u001b[36m██████████\u001b[0m| 40/40 [00:03<00:00, 12.51it/s, Epoch=8, Valid_Acc=53.9, Valid_Loss=1.38]\n",
            "\n",
            "100%|\u001b[36m██████████\u001b[0m| 196/196 [00:16<00:00, 11.54it/s, Epoch=9, Train_Loss=0.85]\n",
            "100%|\u001b[36m██████████\u001b[0m| 40/40 [00:03<00:00, 10.62it/s, Epoch=9, Valid_Acc=54.6, Valid_Loss=1.4]\n",
            "Validation Accuracy Improved (54.07 ---> 54.6)\n",
            "\n"
          ]
        }
      ]
    },
    {
      "cell_type": "markdown",
      "source": [
        "#### Custom Convolutional Network"
      ],
      "metadata": {
        "id": "2oDzBX1h-o7f"
      }
    },
    {
      "cell_type": "markdown",
      "source": [
        "We first construct a custom convolutional network. We use [nn.Conv2d](https://pytorch.org/docs/stable/generated/torch.nn.Conv2d.html) to define a convolutional layer and [MaxPool2D](https://pytorch.org/docs/stable/generated/torch.nn.MaxPool2d.html).\n",
        "\n",
        "Notice how the shape of the input **x** changes through convolutional layers and pooling layers. Convolution modifies the channel dimension based on the `out_channels` argument and the spatial dimension based on the dimension of the `kernel_size`. The spatial dimension of the output can also be modified based on the `padding` and `stride` arguments.\n",
        "\n",
        "The spatial dimension is computed with this formula: [(W−K+2P)/S]+1.\n",
        "\n",
        "* W is the input size - 32 (in first conv layer)\n",
        "* K is the Kernel size - 5\n",
        "* P is the padding - default 0\n",
        "* S is the stride - default 1\n",
        "\n",
        "You can check the full formula [here](https://pytorch.org/docs/stable/generated/torch.nn.Conv2d.html) in the 'Shape' section."
      ],
      "metadata": {
        "id": "KisbaSWgSJey"
      }
    },
    {
      "cell_type": "code",
      "source": [
        "class ConvNet(nn.Module):\n",
        "    def __init__(self):\n",
        "        super(ConvNet, self).__init__()\n",
        "\n",
        "        # First conv layer\n",
        "        self.conv1 = nn.Conv2d(in_channels=3, out_channels=10, kernel_size=3)\n",
        "\n",
        "        # Second conv layer\n",
        "        self.conv2 = nn.Conv2d(in_channels=10, out_channels=20, kernel_size=3)\n",
        "\n",
        "        # Pooling layer - used after both layers of convolution\n",
        "        self.pool = nn.MaxPool2d(kernel_size=2, stride=2)\n",
        "\n",
        "        # Linear layers of the fully connected classifier\n",
        "        self.fc1 = nn.Linear(in_features=20 * 6 * 6, out_features=400)\n",
        "        self.fc2 = nn.Linear(in_features=400, out_features=84)\n",
        "        self.fc3 = nn.Linear(in_features=84, out_features=10)\n",
        "\n",
        "        # Activation function - can be replaced by other better functions (GELU, Mish etc.)\n",
        "        self.activation = nn.GELU()\n",
        "\n",
        "    def forward(self, x):\n",
        "        # Convolutional Part\n",
        "\n",
        "        # input - x shape - (3,32,32)\n",
        "        x = self.activation(self.conv1(x))\n",
        "        # After conv - x shape - (6,28,28)\n",
        "      #  print(x.shape)\n",
        "        x = self.pool(x)\n",
        "        # After pooling - x shape - (6,14,14)\n",
        "      #  print(x.shape)\n",
        "        x = self.activation(self.conv2(x))\n",
        "        # After conv - x shape - (16,10,10)\n",
        "       # print(x.shape)\n",
        "        x = self.pool(x)\n",
        "        # After pooling - x shape - (16,5,5)\n",
        "       # print(x.shape)\n",
        "        # Flatten features for input to fully connected layers\n",
        "        x = x.view(-1, 20 * 6 * 6)\n",
        "       # print(x.shape)\n",
        "        # Fully connected part\n",
        "        x = self.activation(self.fc1(x))\n",
        "        x = self.activation(self.fc2(x))\n",
        "       # print(x.shape)\n",
        "        # Output is 10 scores, one for each class\n",
        "       # x = self.fc3(x)\n",
        "       # print(x.shape)\n",
        "        return x"
      ],
      "metadata": {
        "id": "iWqefchT35g2"
      },
      "execution_count": null,
      "outputs": []
    },
    {
      "cell_type": "markdown",
      "source": [
        "**Exercise 1** - Run the training. Play with hyperparameters and network structure and try to improve results"
      ],
      "metadata": {
        "id": "F1jSyu-f_B8V"
      }
    },
    {
      "cell_type": "code",
      "source": [
        "learning_rate = 0.005\n",
        "epochs = 10\n",
        "\n",
        "model = ConvNet()\n",
        "model.to(device)\n",
        "criterion = nn.CrossEntropyLoss()\n",
        "\n",
        "# Adam is an improved gradient descent algorithm\n",
        "optimizer = optim.Adam(model.parameters(), lr=learning_rate)"
      ],
      "metadata": {
        "id": "G5NTURlo7Xjo"
      },
      "execution_count": null,
      "outputs": []
    },
    {
      "cell_type": "code",
      "source": [
        "run_training(model, criterion, optimizer, epochs)"
      ],
      "metadata": {
        "id": "emQNZkNN7wBw",
        "colab": {
          "base_uri": "https://localhost:8080/"
        },
        "outputId": "4f68f36b-2060-4d76-d7e2-3b460c48dd2a"
      },
      "execution_count": null,
      "outputs": [
        {
          "output_type": "stream",
          "name": "stdout",
          "text": [
            "[INFO] Using GPU: Tesla T4\n",
            "\n",
            "100%|\u001b[36m██████████\u001b[0m| 196/196 [00:17<00:00, 11.39it/s, Epoch=0, Train_Loss=1.59]\n",
            "100%|\u001b[36m██████████\u001b[0m| 40/40 [00:03<00:00, 12.84it/s, Epoch=0, Valid_Acc=54.1, Valid_Loss=1.26]\n",
            "Validation Accuracy Improved (0.0 ---> 54.15)\n",
            "\n",
            "100%|\u001b[36m██████████\u001b[0m| 196/196 [00:17<00:00, 11.38it/s, Epoch=1, Train_Loss=1.13]\n",
            "100%|\u001b[36m██████████\u001b[0m| 40/40 [00:03<00:00, 12.82it/s, Epoch=1, Valid_Acc=62.9, Valid_Loss=1.05]\n",
            "Validation Accuracy Improved (54.15 ---> 62.94)\n",
            "\n",
            "100%|\u001b[36m██████████\u001b[0m| 196/196 [00:16<00:00, 11.75it/s, Epoch=2, Train_Loss=0.94]\n",
            "100%|\u001b[36m██████████\u001b[0m| 40/40 [00:03<00:00, 11.02it/s, Epoch=2, Valid_Acc=66.7, Valid_Loss=0.98]\n",
            "Validation Accuracy Improved (62.94 ---> 66.67)\n",
            "\n",
            "100%|\u001b[36m██████████\u001b[0m| 196/196 [00:16<00:00, 11.75it/s, Epoch=3, Train_Loss=0.78]\n",
            "100%|\u001b[36m██████████\u001b[0m| 40/40 [00:03<00:00, 12.98it/s, Epoch=3, Valid_Acc=66, Valid_Loss=0.99]\n",
            "\n",
            "100%|\u001b[36m██████████\u001b[0m| 196/196 [00:17<00:00, 11.36it/s, Epoch=4, Train_Loss=0.64]\n",
            "100%|\u001b[36m██████████\u001b[0m| 40/40 [00:03<00:00, 12.65it/s, Epoch=4, Valid_Acc=68.5, Valid_Loss=0.97]\n",
            "Validation Accuracy Improved (66.67 ---> 68.46)\n",
            "\n",
            "100%|\u001b[36m██████████\u001b[0m| 196/196 [00:17<00:00, 11.42it/s, Epoch=5, Train_Loss=0.51]\n",
            "100%|\u001b[36m██████████\u001b[0m| 40/40 [00:03<00:00, 13.03it/s, Epoch=5, Valid_Acc=68.4, Valid_Loss=1.06]\n",
            "\n",
            "100%|\u001b[36m██████████\u001b[0m| 196/196 [00:16<00:00, 11.98it/s, Epoch=6, Train_Loss=0.41]\n",
            "100%|\u001b[36m██████████\u001b[0m| 40/40 [00:03<00:00, 10.85it/s, Epoch=6, Valid_Acc=67.4, Valid_Loss=1.16]\n",
            "\n",
            "100%|\u001b[36m██████████\u001b[0m| 196/196 [00:16<00:00, 11.83it/s, Epoch=7, Train_Loss=0.31]\n",
            "100%|\u001b[36m██████████\u001b[0m| 40/40 [00:03<00:00, 13.06it/s, Epoch=7, Valid_Acc=67.7, Valid_Loss=1.27]\n",
            "\n",
            "100%|\u001b[36m██████████\u001b[0m| 196/196 [00:17<00:00, 11.40it/s, Epoch=8, Train_Loss=0.23]\n",
            "100%|\u001b[36m██████████\u001b[0m| 40/40 [00:03<00:00, 12.79it/s, Epoch=8, Valid_Acc=67.4, Valid_Loss=1.39]\n",
            "\n",
            "100%|\u001b[36m██████████\u001b[0m| 196/196 [00:16<00:00, 11.67it/s, Epoch=9, Train_Loss=0.16]\n",
            "100%|\u001b[36m██████████\u001b[0m| 40/40 [00:03<00:00, 11.57it/s, Epoch=9, Valid_Acc=67.1, Valid_Loss=1.47]\n",
            "\n"
          ]
        }
      ]
    },
    {
      "cell_type": "markdown",
      "source": [
        "#### Off the shelf CNN - ResNet18"
      ],
      "metadata": {
        "id": "YAJ00aZN-sO7"
      }
    },
    {
      "cell_type": "markdown",
      "source": [
        "<img src=\"https://i.imgur.com/XwcnU5x.png\" width=600px>"
      ],
      "metadata": {
        "id": "Ki2gdbHfl4eF"
      }
    },
    {
      "cell_type": "markdown",
      "source": [
        "We do not need to manually construct new CNN models. There are available architectures in the [torchvision library](https://pytorch.org/vision/0.8/models.html) and in the [timm library](https://timm.fast.ai/). We can modify their output layers to fit our data and train them for our specific task.\n",
        "\n",
        "For this example we use ResNet18 which is a lightweight version of ResNet. We modify the final layer to work with only 10 classes."
      ],
      "metadata": {
        "id": "c1Hyo6ILU8kM"
      }
    },
    {
      "cell_type": "code",
      "source": [
        "model = resnet18()\n",
        "\n",
        "# ResNet is trained on ImageNet - 1000 classes. We modify the last layer to have only 10 classes\n",
        "in_features = model.fc.in_features\n",
        "model.fc = nn.Linear(in_features=in_features, out_features=10, bias=True)\n",
        "model.to(device)\n",
        "\n",
        "optimizer = optim.Adam(model.parameters(), lr=learning_rate)"
      ],
      "metadata": {
        "id": "GQiCngyH9Cwj"
      },
      "execution_count": null,
      "outputs": []
    },
    {
      "cell_type": "markdown",
      "source": [
        "**Exercise 2** - Run the training. Play with hyperparameters and try to improve results."
      ],
      "metadata": {
        "id": "4C-30cza_OuX"
      }
    },
    {
      "cell_type": "code",
      "source": [
        "run_training(model, criterion, optimizer, epochs)"
      ],
      "metadata": {
        "id": "2pBKkQYe90U_",
        "colab": {
          "base_uri": "https://localhost:8080/"
        },
        "outputId": "b3f1bea9-20bd-43ca-988f-464ca4f24455"
      },
      "execution_count": null,
      "outputs": [
        {
          "output_type": "stream",
          "name": "stdout",
          "text": [
            "[INFO] Using GPU: Tesla T4\n",
            "\n",
            "100%|\u001b[36m██████████\u001b[0m| 196/196 [00:17<00:00, 10.96it/s, Epoch=0, Train_Loss=0.16]\n",
            "100%|\u001b[36m██████████\u001b[0m| 40/40 [00:03<00:00, 12.55it/s, Epoch=0, Valid_Acc=64.5, Valid_Loss=1.88]\n",
            "Validation Accuracy Improved (0.0 ---> 64.48)\n",
            "\n",
            "100%|\u001b[36m██████████\u001b[0m| 196/196 [00:17<00:00, 11.17it/s, Epoch=1, Train_Loss=0.13]\n",
            "100%|\u001b[36m██████████\u001b[0m| 40/40 [00:03<00:00, 12.55it/s, Epoch=1, Valid_Acc=63.2, Valid_Loss=2.08]\n",
            "\n",
            "100%|\u001b[36m██████████\u001b[0m| 196/196 [00:16<00:00, 11.65it/s, Epoch=2, Train_Loss=0.11]\n",
            "100%|\u001b[36m██████████\u001b[0m| 40/40 [00:03<00:00, 10.77it/s, Epoch=2, Valid_Acc=63.4, Valid_Loss=2.21]\n",
            "\n",
            "100%|\u001b[36m██████████\u001b[0m| 196/196 [00:17<00:00, 11.49it/s, Epoch=3, Train_Loss=0.09]\n",
            "100%|\u001b[36m██████████\u001b[0m| 40/40 [00:03<00:00, 12.89it/s, Epoch=3, Valid_Acc=63.4, Valid_Loss=2.23]\n",
            "\n",
            "100%|\u001b[36m██████████\u001b[0m| 196/196 [00:17<00:00, 11.25it/s, Epoch=4, Train_Loss=0.1]\n",
            "100%|\u001b[36m██████████\u001b[0m| 40/40 [00:03<00:00, 12.70it/s, Epoch=4, Valid_Acc=63.1, Valid_Loss=2.45]\n",
            "\n",
            "100%|\u001b[36m██████████\u001b[0m| 196/196 [00:17<00:00, 11.25it/s, Epoch=5, Train_Loss=0.1]\n",
            "100%|\u001b[36m██████████\u001b[0m| 40/40 [00:03<00:00, 12.57it/s, Epoch=5, Valid_Acc=63.1, Valid_Loss=2.36]\n",
            "\n",
            "100%|\u001b[36m██████████\u001b[0m| 196/196 [00:17<00:00, 11.49it/s, Epoch=6, Train_Loss=0.08]\n",
            "100%|\u001b[36m██████████\u001b[0m| 40/40 [00:03<00:00, 10.57it/s, Epoch=6, Valid_Acc=62.9, Valid_Loss=2.61]\n",
            "\n",
            "100%|\u001b[36m██████████\u001b[0m| 196/196 [00:16<00:00, 11.60it/s, Epoch=7, Train_Loss=0.08]\n",
            "100%|\u001b[36m██████████\u001b[0m| 40/40 [00:03<00:00, 12.71it/s, Epoch=7, Valid_Acc=63.3, Valid_Loss=2.6]\n",
            "\n",
            "100%|\u001b[36m██████████\u001b[0m| 196/196 [00:17<00:00, 11.31it/s, Epoch=8, Train_Loss=0.09]\n",
            "100%|\u001b[36m██████████\u001b[0m| 40/40 [00:03<00:00, 12.81it/s, Epoch=8, Valid_Acc=63.7, Valid_Loss=2.74]\n",
            "\n",
            "100%|\u001b[36m██████████\u001b[0m| 196/196 [00:17<00:00, 11.27it/s, Epoch=9, Train_Loss=0.07]\n",
            "100%|\u001b[36m██████████\u001b[0m| 40/40 [00:03<00:00, 12.86it/s, Epoch=9, Valid_Acc=63.6, Valid_Loss=2.79]\n",
            "\n"
          ]
        }
      ]
    },
    {
      "cell_type": "markdown",
      "source": [
        "#### ResNet18 with weights pretrained on ImageNet"
      ],
      "metadata": {
        "id": "FdoEi9Hn-1Xr"
      }
    },
    {
      "cell_type": "markdown",
      "source": [
        "We do not need to train the model from scratch. We can use weights of models pretrained on large datasets and fine-tune them for our task.\n",
        "\n",
        "Doing this can significantly improve the final accuracy, especially when we have a small amount of training data.\n",
        "\n",
        "In this example we start from weights of a ResNet18 pretrained on ImageNet (1M images). We can see that the model performs much better.\n",
        "\n",
        "However, starting from ImageNet pretrained weights is not allowed in the competition 😉"
      ],
      "metadata": {
        "id": "JkfP0dfzV2W-"
      }
    },
    {
      "cell_type": "code",
      "source": [
        "model = resnet18(pretrained=True)\n",
        "\n",
        "# ResNet is trained on ImageNet - 1000 classes. We modify the last layer to have only 10 classes\n",
        "in_features = model.fc.in_features\n",
        "model.fc = nn.Linear(in_features=in_features, out_features=10, bias=True)\n",
        "model.to(device)\n",
        "\n",
        "optimizer = optim.Adam(model.parameters(), lr=learning_rate)"
      ],
      "metadata": {
        "id": "s_GpzmDS-S3Y",
        "colab": {
          "base_uri": "https://localhost:8080/"
        },
        "outputId": "1938921f-0151-45e0-c018-f0bf37162d6e"
      },
      "execution_count": null,
      "outputs": [
        {
          "output_type": "stream",
          "name": "stderr",
          "text": [
            "/usr/local/lib/python3.10/dist-packages/torchvision/models/_utils.py:208: UserWarning: The parameter 'pretrained' is deprecated since 0.13 and may be removed in the future, please use 'weights' instead.\n",
            "  warnings.warn(\n",
            "/usr/local/lib/python3.10/dist-packages/torchvision/models/_utils.py:223: UserWarning: Arguments other than a weight enum or `None` for 'weights' are deprecated since 0.13 and may be removed in the future. The current behavior is equivalent to passing `weights=ResNet18_Weights.IMAGENET1K_V1`. You can also use `weights=ResNet18_Weights.DEFAULT` to get the most up-to-date weights.\n",
            "  warnings.warn(msg)\n"
          ]
        }
      ]
    },
    {
      "cell_type": "markdown",
      "source": [
        "**Exercise 3**\n",
        "1. Run the training. Play with hyperparameters and try to improve results.\n",
        "\n",
        "2. Play with transforms for the trainset and add [image augmentations](https://pytorch.org/vision/main/auto_examples/plot_transforms.html#sphx-glr-auto-examples-plot-transforms-py). See if they improve results. Do not use augmentations for testset."
      ],
      "metadata": {
        "id": "HffX6yk1_XY8"
      }
    },
    {
      "cell_type": "code",
      "source": [
        "run_training(model, criterion, optimizer, epochs)"
      ],
      "metadata": {
        "id": "_9IrUc5s-WGT",
        "colab": {
          "base_uri": "https://localhost:8080/"
        },
        "outputId": "bda34c1f-9270-4a4e-9068-9c954dcbecb0"
      },
      "execution_count": null,
      "outputs": [
        {
          "output_type": "stream",
          "name": "stdout",
          "text": [
            "[INFO] Using GPU: Tesla T4\n",
            "\n",
            "100%|\u001b[36m██████████\u001b[0m| 196/196 [00:24<00:00,  7.97it/s, Epoch=0, Train_Loss=1.39]\n",
            "100%|\u001b[36m██████████\u001b[0m| 40/40 [00:03<00:00, 10.97it/s, Epoch=0, Valid_Acc=62.2, Valid_Loss=1.14]\n",
            "Validation Accuracy Improved (0.0 ---> 62.22)\n",
            "\n",
            "100%|\u001b[36m██████████\u001b[0m| 196/196 [00:24<00:00,  8.05it/s, Epoch=1, Train_Loss=1.1]\n",
            "100%|\u001b[36m██████████\u001b[0m| 40/40 [00:03<00:00, 11.17it/s, Epoch=1, Valid_Acc=39.8, Valid_Loss=2.71]\n",
            "\n",
            "100%|\u001b[36m██████████\u001b[0m| 196/196 [00:24<00:00,  8.06it/s, Epoch=2, Train_Loss=1.13]\n",
            "100%|\u001b[36m██████████\u001b[0m| 40/40 [00:04<00:00,  9.71it/s, Epoch=2, Valid_Acc=63.7, Valid_Loss=1.23]\n",
            "Validation Accuracy Improved (62.22 ---> 63.71)\n",
            "\n",
            "100%|\u001b[36m██████████\u001b[0m| 196/196 [00:24<00:00,  8.06it/s, Epoch=3, Train_Loss=0.97]\n",
            "100%|\u001b[36m██████████\u001b[0m| 40/40 [00:03<00:00, 11.05it/s, Epoch=3, Valid_Acc=71.3, Valid_Loss=0.84]\n",
            "Validation Accuracy Improved (63.71 ---> 71.32)\n",
            "\n",
            "100%|\u001b[36m██████████\u001b[0m| 196/196 [00:24<00:00,  8.04it/s, Epoch=4, Train_Loss=0.72]\n",
            "100%|\u001b[36m██████████\u001b[0m| 40/40 [00:04<00:00,  9.94it/s, Epoch=4, Valid_Acc=72.9, Valid_Loss=0.79]\n",
            "Validation Accuracy Improved (71.32 ---> 72.94)\n",
            "\n",
            "100%|\u001b[36m██████████\u001b[0m| 196/196 [00:24<00:00,  7.98it/s, Epoch=5, Train_Loss=0.59]\n",
            "100%|\u001b[36m██████████\u001b[0m| 40/40 [00:03<00:00, 11.13it/s, Epoch=5, Valid_Acc=74.4, Valid_Loss=0.75]\n",
            "Validation Accuracy Improved (72.94 ---> 74.38)\n",
            "\n",
            "100%|\u001b[36m██████████\u001b[0m| 196/196 [00:24<00:00,  8.00it/s, Epoch=6, Train_Loss=0.5]\n",
            "100%|\u001b[36m██████████\u001b[0m| 40/40 [00:03<00:00, 10.42it/s, Epoch=6, Valid_Acc=73.7, Valid_Loss=0.79]\n",
            "\n",
            "100%|\u001b[36m██████████\u001b[0m| 196/196 [00:24<00:00,  8.02it/s, Epoch=7, Train_Loss=0.42]\n",
            "100%|\u001b[36m██████████\u001b[0m| 40/40 [00:03<00:00, 10.88it/s, Epoch=7, Valid_Acc=74.3, Valid_Loss=0.81]\n",
            "\n",
            "100%|\u001b[36m██████████\u001b[0m| 196/196 [00:24<00:00,  8.01it/s, Epoch=8, Train_Loss=0.34]\n",
            "100%|\u001b[36m██████████\u001b[0m| 40/40 [00:03<00:00, 11.15it/s, Epoch=8, Valid_Acc=75.4, Valid_Loss=0.79]\n",
            "Validation Accuracy Improved (74.38 ---> 75.44)\n",
            "\n",
            "100%|\u001b[36m██████████\u001b[0m| 196/196 [00:24<00:00,  7.99it/s, Epoch=9, Train_Loss=0.28]\n",
            "100%|\u001b[36m██████████\u001b[0m| 40/40 [00:03<00:00, 10.00it/s, Epoch=9, Valid_Acc=75.7, Valid_Loss=0.82]\n",
            "Validation Accuracy Improved (75.44 ---> 75.69)\n",
            "\n"
          ]
        }
      ]
    },
    {
      "cell_type": "markdown",
      "source": [
        "#### Vision Transformers"
      ],
      "metadata": {
        "id": "OJKjCqwDP8N_"
      }
    },
    {
      "cell_type": "markdown",
      "source": [
        "<img src=\"https://production-media.paperswithcode.com/methods/Screen_Shot_2021-01-26_at_9.43.31_PM_uI4jjMq.png\" width=400px>"
      ],
      "metadata": {
        "id": "Op5Z4XQ3mAAO"
      }
    },
    {
      "cell_type": "markdown",
      "source": [
        "Vision Transformers are a new class of image processing architectures. We want to see how these architectures compare to CNNs.\n",
        "\n",
        "For this, we use the [timm](https://timm.fast.ai/) library which provides various computer vision models."
      ],
      "metadata": {
        "id": "O04JEkItBiYt"
      }
    },
    {
      "cell_type": "markdown",
      "source": [
        "We install the library"
      ],
      "metadata": {
        "id": "b95vG83QCBBQ"
      }
    },
    {
      "cell_type": "code",
      "source": [
        "!pip install timm"
      ],
      "metadata": {
        "id": "fhVJSA3nSiVA",
        "colab": {
          "base_uri": "https://localhost:8080/"
        },
        "outputId": "b1977575-3e95-44db-ea98-3e379505d843"
      },
      "execution_count": null,
      "outputs": [
        {
          "output_type": "stream",
          "name": "stdout",
          "text": [
            "Collecting timm\n",
            "  Downloading timm-0.9.2-py3-none-any.whl (2.2 MB)\n",
            "\u001b[?25l     \u001b[90m━━━━━━━━━━━━━━━━━━━━━━━━━━━━━━━━━━━━━━━━\u001b[0m \u001b[32m0.0/2.2 MB\u001b[0m \u001b[31m?\u001b[0m eta \u001b[36m-:--:--\u001b[0m\r\u001b[2K     \u001b[90m━━━━━━━━━━━━━━━━━━━━━━━━━━━━━━━━━━━━━━━━\u001b[0m \u001b[32m2.2/2.2 MB\u001b[0m \u001b[31m80.9 MB/s\u001b[0m eta \u001b[36m0:00:00\u001b[0m\n",
            "\u001b[?25hRequirement already satisfied: torch>=1.7 in /usr/local/lib/python3.10/dist-packages (from timm) (2.0.1+cu118)\n",
            "Requirement already satisfied: torchvision in /usr/local/lib/python3.10/dist-packages (from timm) (0.15.2+cu118)\n",
            "Requirement already satisfied: pyyaml in /usr/local/lib/python3.10/dist-packages (from timm) (6.0)\n",
            "Collecting huggingface-hub (from timm)\n",
            "  Downloading huggingface_hub-0.16.4-py3-none-any.whl (268 kB)\n",
            "\u001b[2K     \u001b[90m━━━━━━━━━━━━━━━━━━━━━━━━━━━━━━━━━━━━━━\u001b[0m \u001b[32m268.8/268.8 kB\u001b[0m \u001b[31m34.4 MB/s\u001b[0m eta \u001b[36m0:00:00\u001b[0m\n",
            "\u001b[?25hCollecting safetensors (from timm)\n",
            "  Downloading safetensors-0.3.1-cp310-cp310-manylinux_2_17_x86_64.manylinux2014_x86_64.whl (1.3 MB)\n",
            "\u001b[2K     \u001b[90m━━━━━━━━━━━━━━━━━━━━━━━━━━━━━━━━━━━━━━━━\u001b[0m \u001b[32m1.3/1.3 MB\u001b[0m \u001b[31m76.9 MB/s\u001b[0m eta \u001b[36m0:00:00\u001b[0m\n",
            "\u001b[?25hRequirement already satisfied: filelock in /usr/local/lib/python3.10/dist-packages (from torch>=1.7->timm) (3.12.2)\n",
            "Requirement already satisfied: typing-extensions in /usr/local/lib/python3.10/dist-packages (from torch>=1.7->timm) (4.7.1)\n",
            "Requirement already satisfied: sympy in /usr/local/lib/python3.10/dist-packages (from torch>=1.7->timm) (1.11.1)\n",
            "Requirement already satisfied: networkx in /usr/local/lib/python3.10/dist-packages (from torch>=1.7->timm) (3.1)\n",
            "Requirement already satisfied: jinja2 in /usr/local/lib/python3.10/dist-packages (from torch>=1.7->timm) (3.1.2)\n",
            "Requirement already satisfied: triton==2.0.0 in /usr/local/lib/python3.10/dist-packages (from torch>=1.7->timm) (2.0.0)\n",
            "Requirement already satisfied: cmake in /usr/local/lib/python3.10/dist-packages (from triton==2.0.0->torch>=1.7->timm) (3.25.2)\n",
            "Requirement already satisfied: lit in /usr/local/lib/python3.10/dist-packages (from triton==2.0.0->torch>=1.7->timm) (16.0.6)\n",
            "Requirement already satisfied: fsspec in /usr/local/lib/python3.10/dist-packages (from huggingface-hub->timm) (2023.6.0)\n",
            "Requirement already satisfied: requests in /usr/local/lib/python3.10/dist-packages (from huggingface-hub->timm) (2.27.1)\n",
            "Requirement already satisfied: tqdm>=4.42.1 in /usr/local/lib/python3.10/dist-packages (from huggingface-hub->timm) (4.65.0)\n",
            "Requirement already satisfied: packaging>=20.9 in /usr/local/lib/python3.10/dist-packages (from huggingface-hub->timm) (23.1)\n",
            "Requirement already satisfied: numpy in /usr/local/lib/python3.10/dist-packages (from torchvision->timm) (1.22.4)\n",
            "Requirement already satisfied: pillow!=8.3.*,>=5.3.0 in /usr/local/lib/python3.10/dist-packages (from torchvision->timm) (8.4.0)\n",
            "Requirement already satisfied: MarkupSafe>=2.0 in /usr/local/lib/python3.10/dist-packages (from jinja2->torch>=1.7->timm) (2.1.3)\n",
            "Requirement already satisfied: urllib3<1.27,>=1.21.1 in /usr/local/lib/python3.10/dist-packages (from requests->huggingface-hub->timm) (1.26.16)\n",
            "Requirement already satisfied: certifi>=2017.4.17 in /usr/local/lib/python3.10/dist-packages (from requests->huggingface-hub->timm) (2023.5.7)\n",
            "Requirement already satisfied: charset-normalizer~=2.0.0 in /usr/local/lib/python3.10/dist-packages (from requests->huggingface-hub->timm) (2.0.12)\n",
            "Requirement already satisfied: idna<4,>=2.5 in /usr/local/lib/python3.10/dist-packages (from requests->huggingface-hub->timm) (3.4)\n",
            "Requirement already satisfied: mpmath>=0.19 in /usr/local/lib/python3.10/dist-packages (from sympy->torch>=1.7->timm) (1.3.0)\n",
            "Installing collected packages: safetensors, huggingface-hub, timm\n",
            "Successfully installed huggingface-hub-0.16.4 safetensors-0.3.1 timm-0.9.2\n"
          ]
        }
      ]
    },
    {
      "cell_type": "code",
      "source": [
        "import timm"
      ],
      "metadata": {
        "id": "2NjZydBQv0NL"
      },
      "execution_count": null,
      "outputs": []
    },
    {
      "cell_type": "markdown",
      "source": [
        "Let's see all the models timm library provides. (maybe some of them can obtain better performance in the competition 😉)"
      ],
      "metadata": {
        "id": "elPcPxLpv2Cc"
      }
    },
    {
      "cell_type": "code",
      "source": [
        "timm.list_models()"
      ],
      "metadata": {
        "id": "toIcpV_Kv5iY",
        "colab": {
          "base_uri": "https://localhost:8080/"
        },
        "outputId": "6462940c-6173-48f4-ef00-2f361e879a94"
      },
      "execution_count": null,
      "outputs": [
        {
          "output_type": "execute_result",
          "data": {
            "text/plain": [
              "['bat_resnext26ts',\n",
              " 'beit_base_patch16_224',\n",
              " 'beit_base_patch16_384',\n",
              " 'beit_large_patch16_224',\n",
              " 'beit_large_patch16_384',\n",
              " 'beit_large_patch16_512',\n",
              " 'beitv2_base_patch16_224',\n",
              " 'beitv2_large_patch16_224',\n",
              " 'botnet26t_256',\n",
              " 'botnet50ts_256',\n",
              " 'caformer_b36',\n",
              " 'caformer_m36',\n",
              " 'caformer_s18',\n",
              " 'caformer_s36',\n",
              " 'cait_m36_384',\n",
              " 'cait_m48_448',\n",
              " 'cait_s24_224',\n",
              " 'cait_s24_384',\n",
              " 'cait_s36_384',\n",
              " 'cait_xs24_384',\n",
              " 'cait_xxs24_224',\n",
              " 'cait_xxs24_384',\n",
              " 'cait_xxs36_224',\n",
              " 'cait_xxs36_384',\n",
              " 'coat_lite_medium',\n",
              " 'coat_lite_medium_384',\n",
              " 'coat_lite_mini',\n",
              " 'coat_lite_small',\n",
              " 'coat_lite_tiny',\n",
              " 'coat_mini',\n",
              " 'coat_small',\n",
              " 'coat_tiny',\n",
              " 'coatnet_0_224',\n",
              " 'coatnet_0_rw_224',\n",
              " 'coatnet_1_224',\n",
              " 'coatnet_1_rw_224',\n",
              " 'coatnet_2_224',\n",
              " 'coatnet_2_rw_224',\n",
              " 'coatnet_3_224',\n",
              " 'coatnet_3_rw_224',\n",
              " 'coatnet_4_224',\n",
              " 'coatnet_5_224',\n",
              " 'coatnet_bn_0_rw_224',\n",
              " 'coatnet_nano_cc_224',\n",
              " 'coatnet_nano_rw_224',\n",
              " 'coatnet_pico_rw_224',\n",
              " 'coatnet_rmlp_0_rw_224',\n",
              " 'coatnet_rmlp_1_rw2_224',\n",
              " 'coatnet_rmlp_1_rw_224',\n",
              " 'coatnet_rmlp_2_rw_224',\n",
              " 'coatnet_rmlp_2_rw_384',\n",
              " 'coatnet_rmlp_3_rw_224',\n",
              " 'coatnet_rmlp_nano_rw_224',\n",
              " 'coatnext_nano_rw_224',\n",
              " 'convformer_b36',\n",
              " 'convformer_m36',\n",
              " 'convformer_s18',\n",
              " 'convformer_s36',\n",
              " 'convit_base',\n",
              " 'convit_small',\n",
              " 'convit_tiny',\n",
              " 'convmixer_768_32',\n",
              " 'convmixer_1024_20_ks9_p14',\n",
              " 'convmixer_1536_20',\n",
              " 'convnext_atto',\n",
              " 'convnext_atto_ols',\n",
              " 'convnext_base',\n",
              " 'convnext_femto',\n",
              " 'convnext_femto_ols',\n",
              " 'convnext_large',\n",
              " 'convnext_large_mlp',\n",
              " 'convnext_nano',\n",
              " 'convnext_nano_ols',\n",
              " 'convnext_pico',\n",
              " 'convnext_pico_ols',\n",
              " 'convnext_small',\n",
              " 'convnext_tiny',\n",
              " 'convnext_tiny_hnf',\n",
              " 'convnext_xlarge',\n",
              " 'convnext_xxlarge',\n",
              " 'convnextv2_atto',\n",
              " 'convnextv2_base',\n",
              " 'convnextv2_femto',\n",
              " 'convnextv2_huge',\n",
              " 'convnextv2_large',\n",
              " 'convnextv2_nano',\n",
              " 'convnextv2_pico',\n",
              " 'convnextv2_small',\n",
              " 'convnextv2_tiny',\n",
              " 'crossvit_9_240',\n",
              " 'crossvit_9_dagger_240',\n",
              " 'crossvit_15_240',\n",
              " 'crossvit_15_dagger_240',\n",
              " 'crossvit_15_dagger_408',\n",
              " 'crossvit_18_240',\n",
              " 'crossvit_18_dagger_240',\n",
              " 'crossvit_18_dagger_408',\n",
              " 'crossvit_base_240',\n",
              " 'crossvit_small_240',\n",
              " 'crossvit_tiny_240',\n",
              " 'cs3darknet_focus_l',\n",
              " 'cs3darknet_focus_m',\n",
              " 'cs3darknet_focus_s',\n",
              " 'cs3darknet_focus_x',\n",
              " 'cs3darknet_l',\n",
              " 'cs3darknet_m',\n",
              " 'cs3darknet_s',\n",
              " 'cs3darknet_x',\n",
              " 'cs3edgenet_x',\n",
              " 'cs3se_edgenet_x',\n",
              " 'cs3sedarknet_l',\n",
              " 'cs3sedarknet_x',\n",
              " 'cs3sedarknet_xdw',\n",
              " 'cspdarknet53',\n",
              " 'cspresnet50',\n",
              " 'cspresnet50d',\n",
              " 'cspresnet50w',\n",
              " 'cspresnext50',\n",
              " 'darknet17',\n",
              " 'darknet21',\n",
              " 'darknet53',\n",
              " 'darknetaa53',\n",
              " 'davit_base',\n",
              " 'davit_giant',\n",
              " 'davit_huge',\n",
              " 'davit_large',\n",
              " 'davit_small',\n",
              " 'davit_tiny',\n",
              " 'deit3_base_patch16_224',\n",
              " 'deit3_base_patch16_384',\n",
              " 'deit3_huge_patch14_224',\n",
              " 'deit3_large_patch16_224',\n",
              " 'deit3_large_patch16_384',\n",
              " 'deit3_medium_patch16_224',\n",
              " 'deit3_small_patch16_224',\n",
              " 'deit3_small_patch16_384',\n",
              " 'deit_base_distilled_patch16_224',\n",
              " 'deit_base_distilled_patch16_384',\n",
              " 'deit_base_patch16_224',\n",
              " 'deit_base_patch16_384',\n",
              " 'deit_small_distilled_patch16_224',\n",
              " 'deit_small_patch16_224',\n",
              " 'deit_tiny_distilled_patch16_224',\n",
              " 'deit_tiny_patch16_224',\n",
              " 'densenet121',\n",
              " 'densenet161',\n",
              " 'densenet169',\n",
              " 'densenet201',\n",
              " 'densenet264d',\n",
              " 'densenetblur121d',\n",
              " 'dla34',\n",
              " 'dla46_c',\n",
              " 'dla46x_c',\n",
              " 'dla60',\n",
              " 'dla60_res2net',\n",
              " 'dla60_res2next',\n",
              " 'dla60x',\n",
              " 'dla60x_c',\n",
              " 'dla102',\n",
              " 'dla102x',\n",
              " 'dla102x2',\n",
              " 'dla169',\n",
              " 'dm_nfnet_f0',\n",
              " 'dm_nfnet_f1',\n",
              " 'dm_nfnet_f2',\n",
              " 'dm_nfnet_f3',\n",
              " 'dm_nfnet_f4',\n",
              " 'dm_nfnet_f5',\n",
              " 'dm_nfnet_f6',\n",
              " 'dpn48b',\n",
              " 'dpn68',\n",
              " 'dpn68b',\n",
              " 'dpn92',\n",
              " 'dpn98',\n",
              " 'dpn107',\n",
              " 'dpn131',\n",
              " 'eca_botnext26ts_256',\n",
              " 'eca_halonext26ts',\n",
              " 'eca_nfnet_l0',\n",
              " 'eca_nfnet_l1',\n",
              " 'eca_nfnet_l2',\n",
              " 'eca_nfnet_l3',\n",
              " 'eca_resnet33ts',\n",
              " 'eca_resnext26ts',\n",
              " 'eca_vovnet39b',\n",
              " 'ecaresnet26t',\n",
              " 'ecaresnet50d',\n",
              " 'ecaresnet50d_pruned',\n",
              " 'ecaresnet50t',\n",
              " 'ecaresnet101d',\n",
              " 'ecaresnet101d_pruned',\n",
              " 'ecaresnet200d',\n",
              " 'ecaresnet269d',\n",
              " 'ecaresnetlight',\n",
              " 'ecaresnext26t_32x4d',\n",
              " 'ecaresnext50t_32x4d',\n",
              " 'edgenext_base',\n",
              " 'edgenext_small',\n",
              " 'edgenext_small_rw',\n",
              " 'edgenext_x_small',\n",
              " 'edgenext_xx_small',\n",
              " 'efficientformer_l1',\n",
              " 'efficientformer_l3',\n",
              " 'efficientformer_l7',\n",
              " 'efficientformerv2_l',\n",
              " 'efficientformerv2_s0',\n",
              " 'efficientformerv2_s1',\n",
              " 'efficientformerv2_s2',\n",
              " 'efficientnet_b0',\n",
              " 'efficientnet_b0_g8_gn',\n",
              " 'efficientnet_b0_g16_evos',\n",
              " 'efficientnet_b0_gn',\n",
              " 'efficientnet_b1',\n",
              " 'efficientnet_b1_pruned',\n",
              " 'efficientnet_b2',\n",
              " 'efficientnet_b2_pruned',\n",
              " 'efficientnet_b2a',\n",
              " 'efficientnet_b3',\n",
              " 'efficientnet_b3_g8_gn',\n",
              " 'efficientnet_b3_gn',\n",
              " 'efficientnet_b3_pruned',\n",
              " 'efficientnet_b3a',\n",
              " 'efficientnet_b4',\n",
              " 'efficientnet_b5',\n",
              " 'efficientnet_b6',\n",
              " 'efficientnet_b7',\n",
              " 'efficientnet_b8',\n",
              " 'efficientnet_cc_b0_4e',\n",
              " 'efficientnet_cc_b0_8e',\n",
              " 'efficientnet_cc_b1_8e',\n",
              " 'efficientnet_el',\n",
              " 'efficientnet_el_pruned',\n",
              " 'efficientnet_em',\n",
              " 'efficientnet_es',\n",
              " 'efficientnet_es_pruned',\n",
              " 'efficientnet_l2',\n",
              " 'efficientnet_lite0',\n",
              " 'efficientnet_lite1',\n",
              " 'efficientnet_lite2',\n",
              " 'efficientnet_lite3',\n",
              " 'efficientnet_lite4',\n",
              " 'efficientnetv2_l',\n",
              " 'efficientnetv2_m',\n",
              " 'efficientnetv2_rw_m',\n",
              " 'efficientnetv2_rw_s',\n",
              " 'efficientnetv2_rw_t',\n",
              " 'efficientnetv2_s',\n",
              " 'efficientnetv2_xl',\n",
              " 'ese_vovnet19b_dw',\n",
              " 'ese_vovnet19b_slim',\n",
              " 'ese_vovnet19b_slim_dw',\n",
              " 'ese_vovnet39b',\n",
              " 'ese_vovnet39b_evos',\n",
              " 'ese_vovnet57b',\n",
              " 'ese_vovnet99b',\n",
              " 'eva02_base_patch14_224',\n",
              " 'eva02_base_patch14_448',\n",
              " 'eva02_base_patch16_clip_224',\n",
              " 'eva02_enormous_patch14_clip_224',\n",
              " 'eva02_large_patch14_224',\n",
              " 'eva02_large_patch14_448',\n",
              " 'eva02_large_patch14_clip_224',\n",
              " 'eva02_large_patch14_clip_336',\n",
              " 'eva02_small_patch14_224',\n",
              " 'eva02_small_patch14_336',\n",
              " 'eva02_tiny_patch14_224',\n",
              " 'eva02_tiny_patch14_336',\n",
              " 'eva_giant_patch14_224',\n",
              " 'eva_giant_patch14_336',\n",
              " 'eva_giant_patch14_560',\n",
              " 'eva_giant_patch14_clip_224',\n",
              " 'eva_large_patch14_196',\n",
              " 'eva_large_patch14_336',\n",
              " 'fbnetc_100',\n",
              " 'fbnetv3_b',\n",
              " 'fbnetv3_d',\n",
              " 'fbnetv3_g',\n",
              " 'flexivit_base',\n",
              " 'flexivit_large',\n",
              " 'flexivit_small',\n",
              " 'focalnet_base_lrf',\n",
              " 'focalnet_base_srf',\n",
              " 'focalnet_huge_fl3',\n",
              " 'focalnet_huge_fl4',\n",
              " 'focalnet_large_fl3',\n",
              " 'focalnet_large_fl4',\n",
              " 'focalnet_small_lrf',\n",
              " 'focalnet_small_srf',\n",
              " 'focalnet_tiny_lrf',\n",
              " 'focalnet_tiny_srf',\n",
              " 'focalnet_xlarge_fl3',\n",
              " 'focalnet_xlarge_fl4',\n",
              " 'gc_efficientnetv2_rw_t',\n",
              " 'gcresnet33ts',\n",
              " 'gcresnet50t',\n",
              " 'gcresnext26ts',\n",
              " 'gcresnext50ts',\n",
              " 'gcvit_base',\n",
              " 'gcvit_small',\n",
              " 'gcvit_tiny',\n",
              " 'gcvit_xtiny',\n",
              " 'gcvit_xxtiny',\n",
              " 'gernet_l',\n",
              " 'gernet_m',\n",
              " 'gernet_s',\n",
              " 'ghostnet_050',\n",
              " 'ghostnet_100',\n",
              " 'ghostnet_130',\n",
              " 'gmixer_12_224',\n",
              " 'gmixer_24_224',\n",
              " 'gmlp_b16_224',\n",
              " 'gmlp_s16_224',\n",
              " 'gmlp_ti16_224',\n",
              " 'halo2botnet50ts_256',\n",
              " 'halonet26t',\n",
              " 'halonet50ts',\n",
              " 'halonet_h1',\n",
              " 'haloregnetz_b',\n",
              " 'hardcorenas_a',\n",
              " 'hardcorenas_b',\n",
              " 'hardcorenas_c',\n",
              " 'hardcorenas_d',\n",
              " 'hardcorenas_e',\n",
              " 'hardcorenas_f',\n",
              " 'hrnet_w18',\n",
              " 'hrnet_w18_small',\n",
              " 'hrnet_w18_small_v2',\n",
              " 'hrnet_w18_ssld',\n",
              " 'hrnet_w30',\n",
              " 'hrnet_w32',\n",
              " 'hrnet_w40',\n",
              " 'hrnet_w44',\n",
              " 'hrnet_w48',\n",
              " 'hrnet_w48_ssld',\n",
              " 'hrnet_w64',\n",
              " 'inception_resnet_v2',\n",
              " 'inception_v3',\n",
              " 'inception_v4',\n",
              " 'lambda_resnet26rpt_256',\n",
              " 'lambda_resnet26t',\n",
              " 'lambda_resnet50ts',\n",
              " 'lamhalobotnet50ts_256',\n",
              " 'lcnet_035',\n",
              " 'lcnet_050',\n",
              " 'lcnet_075',\n",
              " 'lcnet_100',\n",
              " 'lcnet_150',\n",
              " 'legacy_senet154',\n",
              " 'legacy_seresnet18',\n",
              " 'legacy_seresnet34',\n",
              " 'legacy_seresnet50',\n",
              " 'legacy_seresnet101',\n",
              " 'legacy_seresnet152',\n",
              " 'legacy_seresnext26_32x4d',\n",
              " 'legacy_seresnext50_32x4d',\n",
              " 'legacy_seresnext101_32x4d',\n",
              " 'legacy_xception',\n",
              " 'levit_128',\n",
              " 'levit_128s',\n",
              " 'levit_192',\n",
              " 'levit_256',\n",
              " 'levit_256d',\n",
              " 'levit_384',\n",
              " 'levit_384_s8',\n",
              " 'levit_512',\n",
              " 'levit_512_s8',\n",
              " 'levit_512d',\n",
              " 'levit_conv_128',\n",
              " 'levit_conv_128s',\n",
              " 'levit_conv_192',\n",
              " 'levit_conv_256',\n",
              " 'levit_conv_256d',\n",
              " 'levit_conv_384',\n",
              " 'levit_conv_384_s8',\n",
              " 'levit_conv_512',\n",
              " 'levit_conv_512_s8',\n",
              " 'levit_conv_512d',\n",
              " 'maxvit_base_tf_224',\n",
              " 'maxvit_base_tf_384',\n",
              " 'maxvit_base_tf_512',\n",
              " 'maxvit_large_tf_224',\n",
              " 'maxvit_large_tf_384',\n",
              " 'maxvit_large_tf_512',\n",
              " 'maxvit_nano_rw_256',\n",
              " 'maxvit_pico_rw_256',\n",
              " 'maxvit_rmlp_base_rw_224',\n",
              " 'maxvit_rmlp_base_rw_384',\n",
              " 'maxvit_rmlp_nano_rw_256',\n",
              " 'maxvit_rmlp_pico_rw_256',\n",
              " 'maxvit_rmlp_small_rw_224',\n",
              " 'maxvit_rmlp_small_rw_256',\n",
              " 'maxvit_rmlp_tiny_rw_256',\n",
              " 'maxvit_small_tf_224',\n",
              " 'maxvit_small_tf_384',\n",
              " 'maxvit_small_tf_512',\n",
              " 'maxvit_tiny_pm_256',\n",
              " 'maxvit_tiny_rw_224',\n",
              " 'maxvit_tiny_rw_256',\n",
              " 'maxvit_tiny_tf_224',\n",
              " 'maxvit_tiny_tf_384',\n",
              " 'maxvit_tiny_tf_512',\n",
              " 'maxvit_xlarge_tf_224',\n",
              " 'maxvit_xlarge_tf_384',\n",
              " 'maxvit_xlarge_tf_512',\n",
              " 'maxxvit_rmlp_nano_rw_256',\n",
              " 'maxxvit_rmlp_small_rw_256',\n",
              " 'maxxvit_rmlp_tiny_rw_256',\n",
              " 'maxxvitv2_nano_rw_256',\n",
              " 'maxxvitv2_rmlp_base_rw_224',\n",
              " 'maxxvitv2_rmlp_base_rw_384',\n",
              " 'maxxvitv2_rmlp_large_rw_224',\n",
              " 'mixer_b16_224',\n",
              " 'mixer_b32_224',\n",
              " 'mixer_l16_224',\n",
              " 'mixer_l32_224',\n",
              " 'mixer_s16_224',\n",
              " 'mixer_s32_224',\n",
              " 'mixnet_l',\n",
              " 'mixnet_m',\n",
              " 'mixnet_s',\n",
              " 'mixnet_xl',\n",
              " 'mixnet_xxl',\n",
              " 'mnasnet_050',\n",
              " 'mnasnet_075',\n",
              " 'mnasnet_100',\n",
              " 'mnasnet_140',\n",
              " 'mnasnet_a1',\n",
              " 'mnasnet_b1',\n",
              " 'mnasnet_small',\n",
              " 'mobilenetv2_035',\n",
              " 'mobilenetv2_050',\n",
              " 'mobilenetv2_075',\n",
              " 'mobilenetv2_100',\n",
              " 'mobilenetv2_110d',\n",
              " 'mobilenetv2_120d',\n",
              " 'mobilenetv2_140',\n",
              " 'mobilenetv3_large_075',\n",
              " 'mobilenetv3_large_100',\n",
              " 'mobilenetv3_rw',\n",
              " 'mobilenetv3_small_050',\n",
              " 'mobilenetv3_small_075',\n",
              " 'mobilenetv3_small_100',\n",
              " 'mobilevit_s',\n",
              " 'mobilevit_xs',\n",
              " 'mobilevit_xxs',\n",
              " 'mobilevitv2_050',\n",
              " 'mobilevitv2_075',\n",
              " 'mobilevitv2_100',\n",
              " 'mobilevitv2_125',\n",
              " 'mobilevitv2_150',\n",
              " 'mobilevitv2_175',\n",
              " 'mobilevitv2_200',\n",
              " 'mvitv2_base',\n",
              " 'mvitv2_base_cls',\n",
              " 'mvitv2_huge_cls',\n",
              " 'mvitv2_large',\n",
              " 'mvitv2_large_cls',\n",
              " 'mvitv2_small',\n",
              " 'mvitv2_small_cls',\n",
              " 'mvitv2_tiny',\n",
              " 'nasnetalarge',\n",
              " 'nest_base',\n",
              " 'nest_base_jx',\n",
              " 'nest_small',\n",
              " 'nest_small_jx',\n",
              " 'nest_tiny',\n",
              " 'nest_tiny_jx',\n",
              " 'nf_ecaresnet26',\n",
              " 'nf_ecaresnet50',\n",
              " 'nf_ecaresnet101',\n",
              " 'nf_regnet_b0',\n",
              " 'nf_regnet_b1',\n",
              " 'nf_regnet_b2',\n",
              " 'nf_regnet_b3',\n",
              " 'nf_regnet_b4',\n",
              " 'nf_regnet_b5',\n",
              " 'nf_resnet26',\n",
              " 'nf_resnet50',\n",
              " 'nf_resnet101',\n",
              " 'nf_seresnet26',\n",
              " 'nf_seresnet50',\n",
              " 'nf_seresnet101',\n",
              " 'nfnet_f0',\n",
              " 'nfnet_f1',\n",
              " 'nfnet_f2',\n",
              " 'nfnet_f3',\n",
              " 'nfnet_f4',\n",
              " 'nfnet_f5',\n",
              " 'nfnet_f6',\n",
              " 'nfnet_f7',\n",
              " 'nfnet_l0',\n",
              " 'pit_b_224',\n",
              " 'pit_b_distilled_224',\n",
              " 'pit_s_224',\n",
              " 'pit_s_distilled_224',\n",
              " 'pit_ti_224',\n",
              " 'pit_ti_distilled_224',\n",
              " 'pit_xs_224',\n",
              " 'pit_xs_distilled_224',\n",
              " 'pnasnet5large',\n",
              " 'poolformer_m36',\n",
              " 'poolformer_m48',\n",
              " 'poolformer_s12',\n",
              " 'poolformer_s24',\n",
              " 'poolformer_s36',\n",
              " 'poolformerv2_m36',\n",
              " 'poolformerv2_m48',\n",
              " 'poolformerv2_s12',\n",
              " 'poolformerv2_s24',\n",
              " 'poolformerv2_s36',\n",
              " 'pvt_v2_b0',\n",
              " 'pvt_v2_b1',\n",
              " 'pvt_v2_b2',\n",
              " 'pvt_v2_b2_li',\n",
              " 'pvt_v2_b3',\n",
              " 'pvt_v2_b4',\n",
              " 'pvt_v2_b5',\n",
              " 'regnetv_040',\n",
              " 'regnetv_064',\n",
              " 'regnetx_002',\n",
              " 'regnetx_004',\n",
              " 'regnetx_004_tv',\n",
              " 'regnetx_006',\n",
              " 'regnetx_008',\n",
              " 'regnetx_016',\n",
              " 'regnetx_032',\n",
              " 'regnetx_040',\n",
              " 'regnetx_064',\n",
              " 'regnetx_080',\n",
              " 'regnetx_120',\n",
              " 'regnetx_160',\n",
              " 'regnetx_320',\n",
              " 'regnety_002',\n",
              " 'regnety_004',\n",
              " 'regnety_006',\n",
              " 'regnety_008',\n",
              " 'regnety_008_tv',\n",
              " 'regnety_016',\n",
              " 'regnety_032',\n",
              " 'regnety_040',\n",
              " 'regnety_040_sgn',\n",
              " 'regnety_064',\n",
              " 'regnety_080',\n",
              " 'regnety_080_tv',\n",
              " 'regnety_120',\n",
              " 'regnety_160',\n",
              " 'regnety_320',\n",
              " 'regnety_640',\n",
              " 'regnety_1280',\n",
              " 'regnety_2560',\n",
              " 'regnetz_005',\n",
              " 'regnetz_040',\n",
              " 'regnetz_040_h',\n",
              " 'regnetz_b16',\n",
              " 'regnetz_b16_evos',\n",
              " 'regnetz_c16',\n",
              " 'regnetz_c16_evos',\n",
              " 'regnetz_d8',\n",
              " 'regnetz_d8_evos',\n",
              " 'regnetz_d32',\n",
              " 'regnetz_e8',\n",
              " 'repvgg_a2',\n",
              " 'repvgg_b0',\n",
              " 'repvgg_b1',\n",
              " 'repvgg_b1g4',\n",
              " 'repvgg_b2',\n",
              " 'repvgg_b2g4',\n",
              " 'repvgg_b3',\n",
              " 'repvgg_b3g4',\n",
              " 'res2net50_14w_8s',\n",
              " 'res2net50_26w_4s',\n",
              " 'res2net50_26w_6s',\n",
              " 'res2net50_26w_8s',\n",
              " 'res2net50_48w_2s',\n",
              " 'res2net50d',\n",
              " 'res2net101_26w_4s',\n",
              " 'res2net101d',\n",
              " 'res2next50',\n",
              " 'resmlp_12_224',\n",
              " 'resmlp_24_224',\n",
              " 'resmlp_36_224',\n",
              " 'resmlp_big_24_224',\n",
              " 'resnest14d',\n",
              " 'resnest26d',\n",
              " 'resnest50d',\n",
              " 'resnest50d_1s4x24d',\n",
              " 'resnest50d_4s2x40d',\n",
              " 'resnest101e',\n",
              " 'resnest200e',\n",
              " 'resnest269e',\n",
              " 'resnet10t',\n",
              " 'resnet14t',\n",
              " 'resnet18',\n",
              " 'resnet18d',\n",
              " 'resnet26',\n",
              " 'resnet26d',\n",
              " 'resnet26t',\n",
              " 'resnet32ts',\n",
              " 'resnet33ts',\n",
              " 'resnet34',\n",
              " 'resnet34d',\n",
              " 'resnet50',\n",
              " 'resnet50_gn',\n",
              " 'resnet50c',\n",
              " 'resnet50d',\n",
              " 'resnet50s',\n",
              " 'resnet50t',\n",
              " 'resnet51q',\n",
              " 'resnet61q',\n",
              " 'resnet101',\n",
              " 'resnet101c',\n",
              " 'resnet101d',\n",
              " 'resnet101s',\n",
              " 'resnet152',\n",
              " 'resnet152c',\n",
              " 'resnet152d',\n",
              " 'resnet152s',\n",
              " 'resnet200',\n",
              " 'resnet200d',\n",
              " 'resnetaa34d',\n",
              " 'resnetaa50',\n",
              " 'resnetaa50d',\n",
              " 'resnetaa101d',\n",
              " 'resnetblur18',\n",
              " 'resnetblur50',\n",
              " 'resnetblur50d',\n",
              " 'resnetblur101d',\n",
              " 'resnetrs50',\n",
              " 'resnetrs101',\n",
              " 'resnetrs152',\n",
              " 'resnetrs200',\n",
              " 'resnetrs270',\n",
              " 'resnetrs350',\n",
              " 'resnetrs420',\n",
              " 'resnetv2_50',\n",
              " 'resnetv2_50d',\n",
              " 'resnetv2_50d_evos',\n",
              " 'resnetv2_50d_frn',\n",
              " 'resnetv2_50d_gn',\n",
              " 'resnetv2_50t',\n",
              " 'resnetv2_50x1_bit',\n",
              " 'resnetv2_50x3_bit',\n",
              " 'resnetv2_101',\n",
              " 'resnetv2_101d',\n",
              " 'resnetv2_101x1_bit',\n",
              " 'resnetv2_101x3_bit',\n",
              " 'resnetv2_152',\n",
              " 'resnetv2_152d',\n",
              " 'resnetv2_152x2_bit',\n",
              " 'resnetv2_152x4_bit',\n",
              " 'resnext26ts',\n",
              " 'resnext50_32x4d',\n",
              " 'resnext50d_32x4d',\n",
              " 'resnext101_32x4d',\n",
              " 'resnext101_32x8d',\n",
              " 'resnext101_32x16d',\n",
              " 'resnext101_32x32d',\n",
              " 'resnext101_64x4d',\n",
              " 'rexnet_100',\n",
              " 'rexnet_130',\n",
              " 'rexnet_150',\n",
              " 'rexnet_200',\n",
              " 'rexnet_300',\n",
              " 'rexnetr_100',\n",
              " 'rexnetr_130',\n",
              " 'rexnetr_150',\n",
              " 'rexnetr_200',\n",
              " 'rexnetr_300',\n",
              " 'sebotnet33ts_256',\n",
              " 'sedarknet21',\n",
              " 'sehalonet33ts',\n",
              " 'SelecSls42',\n",
              " 'SelecSls42b',\n",
              " 'SelecSls60',\n",
              " 'SelecSls60b',\n",
              " 'SelecSls84',\n",
              " 'semnasnet_050',\n",
              " 'semnasnet_075',\n",
              " 'semnasnet_100',\n",
              " 'semnasnet_140',\n",
              " 'senet154',\n",
              " 'sequencer2d_l',\n",
              " 'sequencer2d_m',\n",
              " 'sequencer2d_s',\n",
              " 'seresnet18',\n",
              " 'seresnet33ts',\n",
              " 'seresnet34',\n",
              " 'seresnet50',\n",
              " 'seresnet50t',\n",
              " 'seresnet101',\n",
              " 'seresnet152',\n",
              " 'seresnet152d',\n",
              " 'seresnet200d',\n",
              " 'seresnet269d',\n",
              " 'seresnetaa50d',\n",
              " 'seresnext26d_32x4d',\n",
              " 'seresnext26t_32x4d',\n",
              " 'seresnext26tn_32x4d',\n",
              " 'seresnext26ts',\n",
              " 'seresnext50_32x4d',\n",
              " 'seresnext101_32x4d',\n",
              " 'seresnext101_32x8d',\n",
              " 'seresnext101_64x4d',\n",
              " 'seresnext101d_32x8d',\n",
              " 'seresnextaa101d_32x8d',\n",
              " 'skresnet18',\n",
              " 'skresnet34',\n",
              " 'skresnet50',\n",
              " 'skresnet50d',\n",
              " 'skresnext50_32x4d',\n",
              " 'spnasnet_100',\n",
              " 'swin_base_patch4_window7_224',\n",
              " 'swin_base_patch4_window12_384',\n",
              " 'swin_large_patch4_window7_224',\n",
              " 'swin_large_patch4_window12_384',\n",
              " 'swin_s3_base_224',\n",
              " 'swin_s3_small_224',\n",
              " 'swin_s3_tiny_224',\n",
              " 'swin_small_patch4_window7_224',\n",
              " 'swin_tiny_patch4_window7_224',\n",
              " 'swinv2_base_window8_256',\n",
              " 'swinv2_base_window12_192',\n",
              " 'swinv2_base_window12to16_192to256',\n",
              " 'swinv2_base_window12to24_192to384',\n",
              " 'swinv2_base_window16_256',\n",
              " 'swinv2_cr_base_224',\n",
              " 'swinv2_cr_base_384',\n",
              " 'swinv2_cr_base_ns_224',\n",
              " 'swinv2_cr_giant_224',\n",
              " 'swinv2_cr_giant_384',\n",
              " 'swinv2_cr_huge_224',\n",
              " 'swinv2_cr_huge_384',\n",
              " 'swinv2_cr_large_224',\n",
              " 'swinv2_cr_large_384',\n",
              " 'swinv2_cr_small_224',\n",
              " 'swinv2_cr_small_384',\n",
              " 'swinv2_cr_small_ns_224',\n",
              " 'swinv2_cr_small_ns_256',\n",
              " 'swinv2_cr_tiny_224',\n",
              " 'swinv2_cr_tiny_384',\n",
              " 'swinv2_cr_tiny_ns_224',\n",
              " 'swinv2_large_window12_192',\n",
              " 'swinv2_large_window12to16_192to256',\n",
              " 'swinv2_large_window12to24_192to384',\n",
              " 'swinv2_small_window8_256',\n",
              " 'swinv2_small_window16_256',\n",
              " 'swinv2_tiny_window8_256',\n",
              " 'swinv2_tiny_window16_256',\n",
              " 'tf_efficientnet_b0',\n",
              " 'tf_efficientnet_b1',\n",
              " 'tf_efficientnet_b2',\n",
              " 'tf_efficientnet_b3',\n",
              " 'tf_efficientnet_b4',\n",
              " 'tf_efficientnet_b5',\n",
              " 'tf_efficientnet_b6',\n",
              " 'tf_efficientnet_b7',\n",
              " 'tf_efficientnet_b8',\n",
              " 'tf_efficientnet_cc_b0_4e',\n",
              " 'tf_efficientnet_cc_b0_8e',\n",
              " 'tf_efficientnet_cc_b1_8e',\n",
              " 'tf_efficientnet_el',\n",
              " 'tf_efficientnet_em',\n",
              " 'tf_efficientnet_es',\n",
              " 'tf_efficientnet_l2',\n",
              " 'tf_efficientnet_lite0',\n",
              " 'tf_efficientnet_lite1',\n",
              " 'tf_efficientnet_lite2',\n",
              " 'tf_efficientnet_lite3',\n",
              " 'tf_efficientnet_lite4',\n",
              " 'tf_efficientnetv2_b0',\n",
              " 'tf_efficientnetv2_b1',\n",
              " 'tf_efficientnetv2_b2',\n",
              " 'tf_efficientnetv2_b3',\n",
              " 'tf_efficientnetv2_l',\n",
              " 'tf_efficientnetv2_m',\n",
              " 'tf_efficientnetv2_s',\n",
              " 'tf_efficientnetv2_xl',\n",
              " 'tf_mixnet_l',\n",
              " 'tf_mixnet_m',\n",
              " 'tf_mixnet_s',\n",
              " 'tf_mobilenetv3_large_075',\n",
              " 'tf_mobilenetv3_large_100',\n",
              " 'tf_mobilenetv3_large_minimal_100',\n",
              " 'tf_mobilenetv3_small_075',\n",
              " 'tf_mobilenetv3_small_100',\n",
              " 'tf_mobilenetv3_small_minimal_100',\n",
              " 'tinynet_a',\n",
              " 'tinynet_b',\n",
              " 'tinynet_c',\n",
              " 'tinynet_d',\n",
              " 'tinynet_e',\n",
              " 'tnt_b_patch16_224',\n",
              " 'tnt_s_patch16_224',\n",
              " 'tresnet_l',\n",
              " 'tresnet_m',\n",
              " 'tresnet_v2_l',\n",
              " 'tresnet_xl',\n",
              " 'twins_pcpvt_base',\n",
              " 'twins_pcpvt_large',\n",
              " 'twins_pcpvt_small',\n",
              " 'twins_svt_base',\n",
              " 'twins_svt_large',\n",
              " 'twins_svt_small',\n",
              " 'vgg11',\n",
              " 'vgg11_bn',\n",
              " 'vgg13',\n",
              " 'vgg13_bn',\n",
              " 'vgg16',\n",
              " 'vgg16_bn',\n",
              " 'vgg19',\n",
              " 'vgg19_bn',\n",
              " 'visformer_small',\n",
              " 'visformer_tiny',\n",
              " 'vit_base_patch8_224',\n",
              " 'vit_base_patch14_dinov2',\n",
              " 'vit_base_patch16_18x2_224',\n",
              " 'vit_base_patch16_224',\n",
              " 'vit_base_patch16_224_miil',\n",
              " 'vit_base_patch16_384',\n",
              " 'vit_base_patch16_clip_224',\n",
              " 'vit_base_patch16_clip_384',\n",
              " 'vit_base_patch16_gap_224',\n",
              " 'vit_base_patch16_plus_240',\n",
              " 'vit_base_patch16_rpn_224',\n",
              " 'vit_base_patch16_xp_224',\n",
              " 'vit_base_patch32_224',\n",
              " 'vit_base_patch32_384',\n",
              " 'vit_base_patch32_clip_224',\n",
              " 'vit_base_patch32_clip_384',\n",
              " 'vit_base_patch32_clip_448',\n",
              " 'vit_base_patch32_plus_256',\n",
              " 'vit_base_r26_s32_224',\n",
              " 'vit_base_r50_s16_224',\n",
              " 'vit_base_r50_s16_384',\n",
              " 'vit_base_resnet26d_224',\n",
              " 'vit_base_resnet50d_224',\n",
              " 'vit_giant_patch14_224',\n",
              " 'vit_giant_patch14_clip_224',\n",
              " 'vit_giant_patch14_dinov2',\n",
              " 'vit_gigantic_patch14_224',\n",
              " 'vit_gigantic_patch14_clip_224',\n",
              " 'vit_huge_patch14_224',\n",
              " 'vit_huge_patch14_clip_224',\n",
              " 'vit_huge_patch14_clip_336',\n",
              " 'vit_huge_patch14_xp_224',\n",
              " 'vit_large_patch14_224',\n",
              " 'vit_large_patch14_clip_224',\n",
              " 'vit_large_patch14_clip_336',\n",
              " 'vit_large_patch14_dinov2',\n",
              " 'vit_large_patch14_xp_224',\n",
              " 'vit_large_patch16_224',\n",
              " 'vit_large_patch16_384',\n",
              " 'vit_large_patch32_224',\n",
              " 'vit_large_patch32_384',\n",
              " 'vit_large_r50_s32_224',\n",
              " 'vit_large_r50_s32_384',\n",
              " 'vit_medium_patch16_gap_240',\n",
              " 'vit_medium_patch16_gap_256',\n",
              " 'vit_medium_patch16_gap_384',\n",
              " 'vit_relpos_base_patch16_224',\n",
              " 'vit_relpos_base_patch16_cls_224',\n",
              " 'vit_relpos_base_patch16_clsgap_224',\n",
              " 'vit_relpos_base_patch16_plus_240',\n",
              " 'vit_relpos_base_patch16_rpn_224',\n",
              " 'vit_relpos_base_patch32_plus_rpn_256',\n",
              " 'vit_relpos_medium_patch16_224',\n",
              " 'vit_relpos_medium_patch16_cls_224',\n",
              " 'vit_relpos_medium_patch16_rpn_224',\n",
              " 'vit_relpos_small_patch16_224',\n",
              " 'vit_relpos_small_patch16_rpn_224',\n",
              " 'vit_small_patch8_224',\n",
              " 'vit_small_patch14_dinov2',\n",
              " 'vit_small_patch16_18x2_224',\n",
              " 'vit_small_patch16_36x1_224',\n",
              " 'vit_small_patch16_224',\n",
              " 'vit_small_patch16_384',\n",
              " 'vit_small_patch32_224',\n",
              " 'vit_small_patch32_384',\n",
              " 'vit_small_r26_s32_224',\n",
              " 'vit_small_r26_s32_384',\n",
              " 'vit_small_resnet26d_224',\n",
              " 'vit_small_resnet50d_s16_224',\n",
              " 'vit_srelpos_medium_patch16_224',\n",
              " 'vit_srelpos_small_patch16_224',\n",
              " 'vit_tiny_patch16_224',\n",
              " 'vit_tiny_patch16_384',\n",
              " 'vit_tiny_r_s16_p8_224',\n",
              " 'vit_tiny_r_s16_p8_384',\n",
              " 'volo_d1_224',\n",
              " 'volo_d1_384',\n",
              " 'volo_d2_224',\n",
              " 'volo_d2_384',\n",
              " 'volo_d3_224',\n",
              " 'volo_d3_448',\n",
              " 'volo_d4_224',\n",
              " 'volo_d4_448',\n",
              " 'volo_d5_224',\n",
              " 'volo_d5_448',\n",
              " 'volo_d5_512',\n",
              " 'vovnet39a',\n",
              " 'vovnet57a',\n",
              " 'wide_resnet50_2',\n",
              " 'wide_resnet101_2',\n",
              " 'xception41',\n",
              " 'xception41p',\n",
              " 'xception65',\n",
              " 'xception65p',\n",
              " 'xception71',\n",
              " 'xcit_large_24_p8_224',\n",
              " 'xcit_large_24_p8_384',\n",
              " 'xcit_large_24_p16_224',\n",
              " 'xcit_large_24_p16_384',\n",
              " 'xcit_medium_24_p8_224',\n",
              " 'xcit_medium_24_p8_384',\n",
              " 'xcit_medium_24_p16_224',\n",
              " 'xcit_medium_24_p16_384',\n",
              " 'xcit_nano_12_p8_224',\n",
              " 'xcit_nano_12_p8_384',\n",
              " 'xcit_nano_12_p16_224',\n",
              " 'xcit_nano_12_p16_384',\n",
              " 'xcit_small_12_p8_224',\n",
              " 'xcit_small_12_p8_384',\n",
              " 'xcit_small_12_p16_224',\n",
              " 'xcit_small_12_p16_384',\n",
              " 'xcit_small_24_p8_224',\n",
              " 'xcit_small_24_p8_384',\n",
              " 'xcit_small_24_p16_224',\n",
              " 'xcit_small_24_p16_384',\n",
              " 'xcit_tiny_12_p8_224',\n",
              " 'xcit_tiny_12_p8_384',\n",
              " 'xcit_tiny_12_p16_224',\n",
              " 'xcit_tiny_12_p16_384',\n",
              " 'xcit_tiny_24_p8_224',\n",
              " 'xcit_tiny_24_p8_384',\n",
              " 'xcit_tiny_24_p16_224',\n",
              " 'xcit_tiny_24_p16_384']"
            ]
          },
          "metadata": {},
          "execution_count": 106
        }
      ]
    },
    {
      "cell_type": "markdown",
      "source": [
        "We create a vision transformer (small version) trained on 224x224 images from ImageNet with patches of 16x16."
      ],
      "metadata": {
        "id": "nvphCRSBCDs1"
      }
    },
    {
      "cell_type": "code",
      "source": [
        "vit_model = timm.create_model('darknet17', pretrained=False)\n",
        "in_features = vit_model.head.in_features\n",
        "vit_model.head = nn.Linear(in_features=in_features, out_features=10)\n",
        "\n",
        "model.to(device)\n",
        "\n",
        "optimizer = optim.Adam(model.parameters(), lr=learning_rate)\n"
      ],
      "metadata": {
        "id": "mrgqBOHgP-bj"
      },
      "execution_count": null,
      "outputs": []
    },
    {
      "cell_type": "markdown",
      "source": [
        "We run the training. In general vision transformers outperform CNNs. However, the vision transformer seems to do worse than the ResNet. Why is this?"
      ],
      "metadata": {
        "id": "w-3F74EeCOB5"
      }
    },
    {
      "cell_type": "code",
      "source": [
        "run_training(model, criterion, optimizer, epochs)"
      ],
      "metadata": {
        "id": "NoK9erESTFDr",
        "colab": {
          "base_uri": "https://localhost:8080/"
        },
        "outputId": "1912ca52-1995-4dd0-a8a3-ca396b070e16"
      },
      "execution_count": null,
      "outputs": [
        {
          "output_type": "stream",
          "name": "stdout",
          "text": [
            "[INFO] Using GPU: Tesla T4\n",
            "\n",
            "100%|\u001b[36m██████████\u001b[0m| 196/196 [00:24<00:00,  7.90it/s, Epoch=0, Train_Loss=0.09]\n",
            "100%|\u001b[36m██████████\u001b[0m| 40/40 [00:03<00:00, 10.42it/s, Epoch=0, Valid_Acc=75.7, Valid_Loss=1.19]\n",
            "Validation Accuracy Improved (0.0 ---> 75.67)\n",
            "\n",
            "100%|\u001b[36m██████████\u001b[0m| 196/196 [00:24<00:00,  7.91it/s, Epoch=1, Train_Loss=0.19]\n",
            "100%|\u001b[36m██████████\u001b[0m| 40/40 [00:03<00:00, 10.39it/s, Epoch=1, Valid_Acc=60.3, Valid_Loss=2.14]\n",
            "\n",
            "100%|\u001b[36m██████████\u001b[0m| 196/196 [00:25<00:00,  7.73it/s, Epoch=2, Train_Loss=0.44]\n",
            "100%|\u001b[36m██████████\u001b[0m| 40/40 [00:03<00:00, 10.85it/s, Epoch=2, Valid_Acc=67, Valid_Loss=1.32]\n",
            "\n",
            "100%|\u001b[36m██████████\u001b[0m| 196/196 [00:24<00:00,  7.93it/s, Epoch=3, Train_Loss=0.26]\n",
            "100%|\u001b[36m██████████\u001b[0m| 40/40 [00:03<00:00, 11.08it/s, Epoch=3, Valid_Acc=73, Valid_Loss=1.07]\n",
            "\n",
            "100%|\u001b[36m██████████\u001b[0m| 196/196 [00:25<00:00,  7.78it/s, Epoch=4, Train_Loss=0.29]\n",
            "100%|\u001b[36m██████████\u001b[0m| 40/40 [00:04<00:00,  9.39it/s, Epoch=4, Valid_Acc=76.1, Valid_Loss=1.04]\n",
            "Validation Accuracy Improved (75.67 ---> 76.11)\n",
            "\n",
            "100%|\u001b[36m██████████\u001b[0m| 196/196 [00:24<00:00,  7.96it/s, Epoch=5, Train_Loss=0.05]\n",
            "100%|\u001b[36m██████████\u001b[0m| 40/40 [00:03<00:00, 11.13it/s, Epoch=5, Valid_Acc=76.3, Valid_Loss=1.27]\n",
            "Validation Accuracy Improved (76.11 ---> 76.32)\n",
            "\n",
            "100%|\u001b[36m██████████\u001b[0m| 196/196 [00:24<00:00,  7.91it/s, Epoch=6, Train_Loss=0.02]\n",
            "100%|\u001b[36m██████████\u001b[0m| 40/40 [00:04<00:00,  9.71it/s, Epoch=6, Valid_Acc=77.3, Valid_Loss=1.43]\n",
            "Validation Accuracy Improved (76.32 ---> 77.26)\n",
            "\n",
            "100%|\u001b[36m██████████\u001b[0m| 196/196 [00:24<00:00,  7.89it/s, Epoch=7, Train_Loss=0.01]\n",
            "100%|\u001b[36m██████████\u001b[0m| 40/40 [00:03<00:00, 11.16it/s, Epoch=7, Valid_Acc=76.6, Valid_Loss=1.54]\n",
            "\n",
            "100%|\u001b[36m██████████\u001b[0m| 196/196 [00:24<00:00,  7.90it/s, Epoch=8, Train_Loss=0.02]\n",
            "100%|\u001b[36m██████████\u001b[0m| 40/40 [00:03<00:00, 11.01it/s, Epoch=8, Valid_Acc=75.6, Valid_Loss=1.6]\n",
            "\n",
            "100%|\u001b[36m██████████\u001b[0m| 196/196 [00:24<00:00,  7.95it/s, Epoch=9, Train_Loss=0.04]\n",
            "100%|\u001b[36m██████████\u001b[0m| 40/40 [00:04<00:00,  9.29it/s, Epoch=9, Valid_Acc=76.2, Valid_Loss=1.46]\n",
            "\n"
          ]
        }
      ]
    }
  ]
}